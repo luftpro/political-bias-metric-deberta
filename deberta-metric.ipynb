{
 "cells": [
  {
   "cell_type": "code",
   "execution_count": 1,
   "id": "48c5933b",
   "metadata": {
    "_cell_guid": "b1076dfc-b9ad-4769-8c92-a6c4dae69d19",
    "_uuid": "8f2839f25d086af736a60e9eeb907d3b93b6e0e5",
    "execution": {
     "iopub.execute_input": "2023-11-22T11:28:36.625722Z",
     "iopub.status.busy": "2023-11-22T11:28:36.625431Z",
     "iopub.status.idle": "2023-11-22T11:30:34.091457Z",
     "shell.execute_reply": "2023-11-22T11:30:34.090267Z"
    },
    "papermill": {
     "duration": 117.47901,
     "end_time": "2023-11-22T11:30:34.094111",
     "exception": false,
     "start_time": "2023-11-22T11:28:36.615101",
     "status": "completed"
    },
    "tags": []
   },
   "outputs": [
    {
     "name": "stdout",
     "output_type": "stream",
     "text": [
      "Requirement already satisfied: sentencepiece in /opt/conda/lib/python3.10/site-packages (0.1.99)\r\n"
     ]
    }
   ],
   "source": [
    "!pip install -q git+https://github.com/huggingface/transformers\n",
    "!pip install -q git+https://github.com/huggingface/accelerate\n",
    "!pip install -q git+https://github.com/huggingface/datasets\n",
    "!pip install sentencepiece"
   ]
  },
  {
   "cell_type": "code",
   "execution_count": 2,
   "id": "e05bf615",
   "metadata": {
    "execution": {
     "iopub.execute_input": "2023-11-22T11:30:34.113821Z",
     "iopub.status.busy": "2023-11-22T11:30:34.113078Z",
     "iopub.status.idle": "2023-11-22T11:30:53.138153Z",
     "shell.execute_reply": "2023-11-22T11:30:53.137372Z"
    },
    "papermill": {
     "duration": 19.037095,
     "end_time": "2023-11-22T11:30:53.140367",
     "exception": false,
     "start_time": "2023-11-22T11:30:34.103272",
     "status": "completed"
    },
    "tags": []
   },
   "outputs": [
    {
     "name": "stderr",
     "output_type": "stream",
     "text": [
      "/opt/conda/lib/python3.10/site-packages/scipy/__init__.py:146: UserWarning: A NumPy version >=1.16.5 and <1.23.0 is required for this version of SciPy (detected version 1.24.3\n",
      "  warnings.warn(f\"A NumPy version >={np_minversion} and <{np_maxversion}\"\n"
     ]
    }
   ],
   "source": [
    "import transformers, sentencepiece\n",
    "import datasets\n",
    "import matplotlib.pyplot as plt\n",
    "import pandas as pd\n",
    "import numpy as np\n",
    "import torch\n",
    "import torch.nn as nn\n",
    "import torch.nn.functional as F\n",
    "import re\n",
    "import sklearn.metrics\n",
    "from time import sleep\n",
    "from tqdm import tqdm\n",
    "from transformers import AutoConfig, AutoModel, AutoTokenizer, DataCollatorWithPadding\n",
    "from datasets import load_dataset, Dataset, DatasetDict\n",
    "from accelerate import notebook_launcher\n",
    "from accelerate import Accelerator\n",
    "from accelerate.utils import set_seed\n",
    "from torch.utils.data import DataLoader\n",
    "from torch.optim.lr_scheduler import OneCycleLR"
   ]
  },
  {
   "cell_type": "markdown",
   "metadata": {},
   "source": [
    "#### JSON file paths for the dataset"
   ]
  },
  {
   "cell_type": "code",
   "execution_count": 3,
   "id": "395837e2",
   "metadata": {
    "execution": {
     "iopub.execute_input": "2023-11-22T11:30:53.160185Z",
     "iopub.status.busy": "2023-11-22T11:30:53.159619Z",
     "iopub.status.idle": "2023-11-22T11:30:54.021454Z",
     "shell.execute_reply": "2023-11-22T11:30:54.020587Z"
    },
    "papermill": {
     "duration": 0.874284,
     "end_time": "2023-11-22T11:30:54.023884",
     "exception": false,
     "start_time": "2023-11-22T11:30:53.149600",
     "status": "completed"
    },
    "tags": []
   },
   "outputs": [],
   "source": [
    "df_train = pd.read_json('/kaggle/input/dl-multilabel/dl_project_train.json', orient='records')\n",
    "df_val = pd.read_json('/kaggle/input/dl-multilabel/dl_project_dev.json', orient='records')\n",
    "df_test = pd.read_json('/kaggle/input/dl-multilabel/dl_project_test.json', orient='records')"
   ]
  },
  {
   "cell_type": "code",
   "execution_count": 4,
   "id": "6bea3e3e",
   "metadata": {
    "execution": {
     "iopub.execute_input": "2023-11-22T11:30:54.044724Z",
     "iopub.status.busy": "2023-11-22T11:30:54.044453Z",
     "iopub.status.idle": "2023-11-22T11:32:02.949023Z",
     "shell.execute_reply": "2023-11-22T11:32:02.948043Z"
    },
    "papermill": {
     "duration": 68.925473,
     "end_time": "2023-11-22T11:32:02.959772",
     "exception": false,
     "start_time": "2023-11-22T11:30:54.034299",
     "status": "completed"
    },
    "tags": []
   },
   "outputs": [
    {
     "name": "stdout",
     "output_type": "stream",
     "text": [
      "[nltk_data] Downloading package punkt to /usr/share/nltk_data...\n",
      "[nltk_data]   Package punkt is already up-to-date!\n",
      "Total words:  6114653\n",
      "6994 articles, 874.2712324849871 words per article\n",
      "817 websites, 7484.275397796818 words per website\n"
     ]
    }
   ],
   "source": [
    "import nltk\n",
    "nltk.download('punkt')\n",
    "from nltk.tokenize import word_tokenize\n",
    "total_words = 0\n",
    "count_articles = 0\n",
    "for article_set in df_train['articles']:\n",
    "    for article in article_set:\n",
    "        words = word_tokenize(article['content'])\n",
    "        total_words += len(words)\n",
    "        count_articles += 1\n",
    "print('Total words: ', total_words)\n",
    "print(f'{count_articles} articles, {total_words/count_articles} words per article')\n",
    "print(f\"{len(df_train['articles'])} websites, {total_words/len(df_train['articles'])} words per website\")"
   ]
  },
  {
   "cell_type": "code",
   "execution_count": 5,
   "id": "d44eacd3",
   "metadata": {
    "execution": {
     "iopub.execute_input": "2023-11-22T11:32:02.978848Z",
     "iopub.status.busy": "2023-11-22T11:32:02.978538Z",
     "iopub.status.idle": "2023-11-22T11:32:03.031600Z",
     "shell.execute_reply": "2023-11-22T11:32:03.030580Z"
    },
    "papermill": {
     "duration": 0.064975,
     "end_time": "2023-11-22T11:32:03.033747",
     "exception": false,
     "start_time": "2023-11-22T11:32:02.968772",
     "status": "completed"
    },
    "tags": []
   },
   "outputs": [
    {
     "data": {
      "text/html": [
       "<div>\n",
       "<style scoped>\n",
       "    .dataframe tbody tr th:only-of-type {\n",
       "        vertical-align: middle;\n",
       "    }\n",
       "\n",
       "    .dataframe tbody tr th {\n",
       "        vertical-align: top;\n",
       "    }\n",
       "\n",
       "    .dataframe thead th {\n",
       "        text-align: right;\n",
       "    }\n",
       "</style>\n",
       "<table border=\"1\" class=\"dataframe\">\n",
       "  <thead>\n",
       "    <tr style=\"text-align: right;\">\n",
       "      <th></th>\n",
       "      <th>source</th>\n",
       "      <th>json_file_path</th>\n",
       "      <th>label</th>\n",
       "      <th>large_label</th>\n",
       "      <th>mbfc_link</th>\n",
       "      <th>articles</th>\n",
       "    </tr>\n",
       "  </thead>\n",
       "  <tbody>\n",
       "    <tr>\n",
       "      <th>0</th>\n",
       "      <td>ivn.us</td>\n",
       "      <td>train_json/ivn.us.json</td>\n",
       "      <td>1</td>\n",
       "      <td>Independent Voter Network (IVN) - Least Biased...</td>\n",
       "      <td>https://mediabiasfactcheck.com/independent-vot...</td>\n",
       "      <td>[{'id': 'b3785905376194ae', 'title': 'An Indep...</td>\n",
       "    </tr>\n",
       "    <tr>\n",
       "      <th>1</th>\n",
       "      <td>newyorker.com</td>\n",
       "      <td>train_json/newyorker.com.json</td>\n",
       "      <td>0</td>\n",
       "      <td>New Yorker - Left Bias - Liberal - Democrat - ...</td>\n",
       "      <td>https://mediabiasfactcheck.com/new-yorker/</td>\n",
       "      <td>[{'id': '940ab57d099ffd69', 'title': 'An App C...</td>\n",
       "    </tr>\n",
       "    <tr>\n",
       "      <th>2</th>\n",
       "      <td>cookpolitical.com</td>\n",
       "      <td>train_json/cookpolitical.com.json</td>\n",
       "      <td>1</td>\n",
       "      <td>Cook Political Report - Least Biased - Credible</td>\n",
       "      <td>https://mediabiasfactcheck.com/cook-political-...</td>\n",
       "      <td>[{'id': 'e52875fbe3848a5c', 'title': 'Introduc...</td>\n",
       "    </tr>\n",
       "    <tr>\n",
       "      <th>3</th>\n",
       "      <td>meduza.io</td>\n",
       "      <td>train_json/meduza.io.json</td>\n",
       "      <td>0</td>\n",
       "      <td>Meduza - Left Bias - Liberal - Credible and Re...</td>\n",
       "      <td>https://mediabiasfactcheck.com/meduza/</td>\n",
       "      <td>[{'id': '1aa2210d64c1d23a', 'title': 'Bad educ...</td>\n",
       "    </tr>\n",
       "    <tr>\n",
       "      <th>4</th>\n",
       "      <td>sctimes.com</td>\n",
       "      <td>train_json/sctimes.com.json</td>\n",
       "      <td>1</td>\n",
       "      <td>St. Cloud Times - Least Baised - Credible - Re...</td>\n",
       "      <td>https://mediabiasfactcheck.com/st-cloud-times/</td>\n",
       "      <td>[{'id': '2eb423127b952e79', 'title': 'A German...</td>\n",
       "    </tr>\n",
       "    <tr>\n",
       "      <th>...</th>\n",
       "      <td>...</td>\n",
       "      <td>...</td>\n",
       "      <td>...</td>\n",
       "      <td>...</td>\n",
       "      <td>...</td>\n",
       "      <td>...</td>\n",
       "    </tr>\n",
       "    <tr>\n",
       "      <th>812</th>\n",
       "      <td>ammoland.com</td>\n",
       "      <td>train_json/ammoland.com.json</td>\n",
       "      <td>2</td>\n",
       "      <td>Ammoland - Right Bias - Conservative - Republi...</td>\n",
       "      <td>https://mediabiasfactcheck.com/ammoland/</td>\n",
       "      <td>[{'id': 'b7e681d5867ae712', 'title': 'Fourth C...</td>\n",
       "    </tr>\n",
       "    <tr>\n",
       "      <th>813</th>\n",
       "      <td>sciencedebate.org</td>\n",
       "      <td>train_json/sciencedebate.org.json</td>\n",
       "      <td>1</td>\n",
       "      <td>Science Debate - Least Biased - Credible - Rel...</td>\n",
       "      <td>https://mediabiasfactcheck.com/science-debate/</td>\n",
       "      <td>[{'id': 'd4e7ee12f06e3262', 'title': 'Presiden...</td>\n",
       "    </tr>\n",
       "    <tr>\n",
       "      <th>814</th>\n",
       "      <td>rfi.fr</td>\n",
       "      <td>train_json/rfi.fr.json</td>\n",
       "      <td>1</td>\n",
       "      <td>RFI (Radio France Internationale) - Least Bias...</td>\n",
       "      <td>https://mediabiasfactcheck.com/rfi-radio-franc...</td>\n",
       "      <td>[{'id': 'bc2ba227a6fdef5d', 'title': 'Paris po...</td>\n",
       "    </tr>\n",
       "    <tr>\n",
       "      <th>815</th>\n",
       "      <td>howtogeek.com</td>\n",
       "      <td>train_json/howtogeek.com.json</td>\n",
       "      <td>1</td>\n",
       "      <td>How-To Geek - Least Biased - Credible - Reliable</td>\n",
       "      <td>https://mediabiasfactcheck.com/how-to-geek/</td>\n",
       "      <td>[{'id': 'a64aa35b0a3f88e4', 'title': 'How to U...</td>\n",
       "    </tr>\n",
       "    <tr>\n",
       "      <th>816</th>\n",
       "      <td>lawenforcementtoday.com</td>\n",
       "      <td>train_json/lawenforcementtoday.com.json</td>\n",
       "      <td>2</td>\n",
       "      <td>Law Enforcement Today - Right Bias - Conservat...</td>\n",
       "      <td>https://mediabiasfactcheck.com/law-enforcement...</td>\n",
       "      <td>[{'id': '97bd801e75cfc7f9', 'title': 'Boston M...</td>\n",
       "    </tr>\n",
       "  </tbody>\n",
       "</table>\n",
       "<p>817 rows × 6 columns</p>\n",
       "</div>"
      ],
      "text/plain": [
       "                      source                           json_file_path  label  \\\n",
       "0                     ivn.us                   train_json/ivn.us.json      1   \n",
       "1              newyorker.com            train_json/newyorker.com.json      0   \n",
       "2          cookpolitical.com        train_json/cookpolitical.com.json      1   \n",
       "3                  meduza.io                train_json/meduza.io.json      0   \n",
       "4                sctimes.com              train_json/sctimes.com.json      1   \n",
       "..                       ...                                      ...    ...   \n",
       "812             ammoland.com             train_json/ammoland.com.json      2   \n",
       "813        sciencedebate.org        train_json/sciencedebate.org.json      1   \n",
       "814                   rfi.fr                   train_json/rfi.fr.json      1   \n",
       "815            howtogeek.com            train_json/howtogeek.com.json      1   \n",
       "816  lawenforcementtoday.com  train_json/lawenforcementtoday.com.json      2   \n",
       "\n",
       "                                           large_label  \\\n",
       "0    Independent Voter Network (IVN) - Least Biased...   \n",
       "1    New Yorker - Left Bias - Liberal - Democrat - ...   \n",
       "2      Cook Political Report - Least Biased - Credible   \n",
       "3    Meduza - Left Bias - Liberal - Credible and Re...   \n",
       "4    St. Cloud Times - Least Baised - Credible - Re...   \n",
       "..                                                 ...   \n",
       "812  Ammoland - Right Bias - Conservative - Republi...   \n",
       "813  Science Debate - Least Biased - Credible - Rel...   \n",
       "814  RFI (Radio France Internationale) - Least Bias...   \n",
       "815   How-To Geek - Least Biased - Credible - Reliable   \n",
       "816  Law Enforcement Today - Right Bias - Conservat...   \n",
       "\n",
       "                                             mbfc_link  \\\n",
       "0    https://mediabiasfactcheck.com/independent-vot...   \n",
       "1           https://mediabiasfactcheck.com/new-yorker/   \n",
       "2    https://mediabiasfactcheck.com/cook-political-...   \n",
       "3               https://mediabiasfactcheck.com/meduza/   \n",
       "4       https://mediabiasfactcheck.com/st-cloud-times/   \n",
       "..                                                 ...   \n",
       "812           https://mediabiasfactcheck.com/ammoland/   \n",
       "813     https://mediabiasfactcheck.com/science-debate/   \n",
       "814  https://mediabiasfactcheck.com/rfi-radio-franc...   \n",
       "815        https://mediabiasfactcheck.com/how-to-geek/   \n",
       "816  https://mediabiasfactcheck.com/law-enforcement...   \n",
       "\n",
       "                                              articles  \n",
       "0    [{'id': 'b3785905376194ae', 'title': 'An Indep...  \n",
       "1    [{'id': '940ab57d099ffd69', 'title': 'An App C...  \n",
       "2    [{'id': 'e52875fbe3848a5c', 'title': 'Introduc...  \n",
       "3    [{'id': '1aa2210d64c1d23a', 'title': 'Bad educ...  \n",
       "4    [{'id': '2eb423127b952e79', 'title': 'A German...  \n",
       "..                                                 ...  \n",
       "812  [{'id': 'b7e681d5867ae712', 'title': 'Fourth C...  \n",
       "813  [{'id': 'd4e7ee12f06e3262', 'title': 'Presiden...  \n",
       "814  [{'id': 'bc2ba227a6fdef5d', 'title': 'Paris po...  \n",
       "815  [{'id': 'a64aa35b0a3f88e4', 'title': 'How to U...  \n",
       "816  [{'id': '97bd801e75cfc7f9', 'title': 'Boston M...  \n",
       "\n",
       "[817 rows x 6 columns]"
      ]
     },
     "execution_count": 5,
     "metadata": {},
     "output_type": "execute_result"
    }
   ],
   "source": [
    "df_train"
   ]
  },
  {
   "cell_type": "code",
   "execution_count": 6,
   "id": "5cfa91cb",
   "metadata": {
    "execution": {
     "iopub.execute_input": "2023-11-22T11:32:03.054090Z",
     "iopub.status.busy": "2023-11-22T11:32:03.053797Z",
     "iopub.status.idle": "2023-11-22T11:32:03.065492Z",
     "shell.execute_reply": "2023-11-22T11:32:03.064485Z"
    },
    "papermill": {
     "duration": 0.024081,
     "end_time": "2023-11-22T11:32:03.067595",
     "exception": false,
     "start_time": "2023-11-22T11:32:03.043514",
     "status": "completed"
    },
    "tags": []
   },
   "outputs": [
    {
     "name": "stdout",
     "output_type": "stream",
     "text": [
      "Non-labeled amount of data per train, val and test:\n",
      "0.2350061199510404\n",
      "0.18269230769230768\n",
      "0.3431372549019608\n"
     ]
    }
   ],
   "source": [
    "print('Non-labeled amount of data per train, val and test:')\n",
    "print(len(df_train[df_train['large_label'].isna()])/len(df_train))\n",
    "print(len(df_val[df_val['large_label'].isna()])/len(df_val))\n",
    "print(len(df_test[df_test['large_label'].isna()])/len(df_test))"
   ]
  },
  {
   "cell_type": "markdown",
   "metadata": {},
   "source": [
    "#### Data preparation"
   ]
  },
  {
   "cell_type": "code",
   "execution_count": 7,
   "id": "1fb3d58c",
   "metadata": {
    "execution": {
     "iopub.execute_input": "2023-11-22T11:32:03.088138Z",
     "iopub.status.busy": "2023-11-22T11:32:03.087844Z",
     "iopub.status.idle": "2023-11-22T11:32:03.102920Z",
     "shell.execute_reply": "2023-11-22T11:32:03.102250Z"
    },
    "papermill": {
     "duration": 0.027439,
     "end_time": "2023-11-22T11:32:03.104816",
     "exception": false,
     "start_time": "2023-11-22T11:32:03.077377",
     "status": "completed"
    },
    "tags": []
   },
   "outputs": [],
   "source": [
    "df_train.drop(df_train[df_train['large_label'].isna()].index, inplace=True)\n",
    "df_val.drop(df_val[df_val['large_label'].isna()].index, inplace=True)\n",
    "df_test.drop(df_test[df_test['large_label'].isna()].index, inplace=True)\n",
    "df_train['large_label'] = df_train['large_label'].str.lower().str.replace(' ', '')\n",
    "df_val['large_label'] = df_val['large_label'].str.lower().str.replace(' ', '')\n",
    "df_test['large_label'] = df_test['large_label'].str.lower().str.replace(' ', '')"
   ]
  },
  {
   "cell_type": "code",
   "execution_count": 8,
   "id": "309e4a80",
   "metadata": {
    "execution": {
     "iopub.execute_input": "2023-11-22T11:32:03.125111Z",
     "iopub.status.busy": "2023-11-22T11:32:03.124845Z",
     "iopub.status.idle": "2023-11-22T11:32:03.129945Z",
     "shell.execute_reply": "2023-11-22T11:32:03.129191Z"
    },
    "papermill": {
     "duration": 0.017943,
     "end_time": "2023-11-22T11:32:03.132177",
     "exception": false,
     "start_time": "2023-11-22T11:32:03.114234",
     "status": "completed"
    },
    "tags": []
   },
   "outputs": [
    {
     "name": "stdout",
     "output_type": "stream",
     "text": [
      "0      independentvoternetwork(ivn)-leastbiased-credi...\n",
      "1      newyorker-leftbias-liberal-democrat-progressiv...\n",
      "2               cookpoliticalreport-leastbiased-credible\n",
      "3            meduza-leftbias-liberal-credibleandreliable\n",
      "4            st.cloudtimes-leastbaised-credible-reliable\n",
      "                             ...                        \n",
      "812    ammoland-rightbias-conservative-republican-cre...\n",
      "813          sciencedebate-leastbiased-credible-reliable\n",
      "814    rfi(radiofranceinternationale)-leastbiased-cre...\n",
      "815             how-togeek-leastbiased-credible-reliable\n",
      "816    lawenforcementtoday-rightbias-conservative-rep...\n",
      "Name: large_label, Length: 625, dtype: object\n"
     ]
    }
   ],
   "source": [
    "print(df_train['large_label'])"
   ]
  },
  {
   "cell_type": "code",
   "execution_count": 9,
   "id": "5ccf7b3b",
   "metadata": {
    "execution": {
     "iopub.execute_input": "2023-11-22T11:32:03.152831Z",
     "iopub.status.busy": "2023-11-22T11:32:03.152558Z",
     "iopub.status.idle": "2023-11-22T11:32:03.168690Z",
     "shell.execute_reply": "2023-11-22T11:32:03.167724Z"
    },
    "papermill": {
     "duration": 0.028763,
     "end_time": "2023-11-22T11:32:03.170502",
     "exception": false,
     "start_time": "2023-11-22T11:32:03.141739",
     "status": "completed"
    },
    "tags": []
   },
   "outputs": [
    {
     "name": "stdout",
     "output_type": "stream",
     "text": [
      "{'', 'sentinel', 'socialism', 'police', 'proscience', 'communism', 'christian', 'newschannel5', 'brexit', 'ny1', 'standard', '23abc', 'liberal', '11news', 'notliberal(left)', 'crediblefactchecker', 'southafrica', 'centerbias', 'notrightbias', 'australia', 'reliability', 'tribune', 'legitimate', 'mytwntiers', 'notalwayscredibleorreliable', 'journal', 'credibleandreliable', 'trump', 'tech', 'marxism', 'progressive', 'highlycredible', 'cityherald', 'slightright', 'freemarket', 'feminist', 'stockton', 'christianright', 'rightbias', 'notcredibleorreliable', 'myfox8', 'conspiracy', 'leastbiased', 'factchecking', 'muslim', 'rightbiased', 'notconservativeorright', 'conservative', 'progressivedemocrat', 'chronicle', 'vote.com', 'reporter', 'credible', 'libertarian', 'prwatch', 'republican', 'american', 'fakenews', 'leftbiased', 'credibilityandreliabilitymixed', 'notleftbias', 'leftbias', 'india', 'propaganda', 'instituteforlegislativeaction', 'news9', 'review', 'conservatitve', 'gazette', 'communist', 'notleft', 'rightcenterbias', 'orangecountyregisterisrightcenterbiased,conservative,libertarianwithhighcredibilityandreliability', 'socialist', 'conservativeleaning', 'notright', 'tv', 'togeek', 'telegram', 'notconservative(right)', 'racist', 'bulletin', 'somewhatcredible', 'rightleaning', 'labor', 'liberalprogressive', 'generallycredible', 'notcredible', 'anarchism', 'rightlean', 'canada', 'dictatorship', 'news', 'capitalism', 'reliabilityhigh', 'democrat', 'credbile', 'extremerightbias', 'right', 'cbnnews', 'reliable', 'islandnews', 'science', 'kyw', 'notleftorright', 'altright', 'postcarboninstitute', 'minimalbias', 'not', 'nonbiased', 'israel', 'mostlycredibleandreliable', 'leftlean', 'factchecker', 'slightleanright', 'akp', 'mostlyfactual', 'liberal_progressive', 'notliberal', 'democraticsocialist', 'leastbaised', 'clickondetroit', 'factcheck', 'mostlycredible', 'palestine', 'mixedcredible', 'notconservative', 'labour', 'lowbias', 'moorhead', 'pseudoscience', 'left', 'leftcenterbias', 'kusa', 'evidencebased', 'lgbtq', 'factual', 'somebias', 'notliberalorconservative', 'lancasteronline', 'tory', 'span', 'crediblenewspaper', 'rightleaningbias', 'juneau'}\n"
     ]
    }
   ],
   "source": [
    "df = pd.DataFrame()\n",
    "df['words'] = df_train['large_label'].str.split('-')\n",
    "df['words'] = df['words'].apply(lambda x: x[1:])\n",
    "all_words_train = [word for words in df['words'] for word in words]\n",
    "\n",
    "df = pd.DataFrame()\n",
    "df['words'] = df_val['large_label'].str.split('-')\n",
    "df['words'] = df['words'].apply(lambda x: x[1:])\n",
    "all_words_val = [word for words in df['words'] for word in words]\n",
    "\n",
    "df = pd.DataFrame()\n",
    "df['words'] = df_test['large_label'].str.split('-')\n",
    "df['words'] = df['words'].apply(lambda x: x[1:])\n",
    "all_words_test = [word for words in df['words'] for word in words]\n",
    "\n",
    "unique_words = set(all_words_train + all_words_val + all_words_test)\n",
    "print(unique_words)"
   ]
  },
  {
   "cell_type": "code",
   "execution_count": 10,
   "id": "9a2733ed",
   "metadata": {
    "execution": {
     "iopub.execute_input": "2023-11-22T11:32:03.191277Z",
     "iopub.status.busy": "2023-11-22T11:32:03.190988Z",
     "iopub.status.idle": "2023-11-22T11:32:03.265421Z",
     "shell.execute_reply": "2023-11-22T11:32:03.264550Z"
    },
    "papermill": {
     "duration": 0.087228,
     "end_time": "2023-11-22T11:32:03.267390",
     "exception": false,
     "start_time": "2023-11-22T11:32:03.180162",
     "status": "completed"
    },
    "tags": []
   },
   "outputs": [],
   "source": [
    "remove = ['notleftorright','notliberal','notliberal(left)','notliberalorconservative','notconservative']\n",
    "\n",
    "replace_noncredible = ['notalwayscredibleorreliable','notcredible','notcredibleorreliable', 'lowtrustorreliable']\n",
    "\n",
    "replace_mixed = ['credibilityandreliabilitymixed', 'mixedcredible', \n",
    "                 'notalwayscredibleorreliable', 'somewhatcredible']\n",
    "\n",
    "replace_credible = ['credbile','credible','credibleandreliable','crediblefactchecker',\n",
    "                    'crediblenewspaper', 'factual', 'generallycredible', 'highlycredible', \n",
    "                    'mostlycredible','mostlycredibleandreliable','mostlyfactual','reliability',\n",
    "                    'reliabilityhigh','reliable', 'evidencebased', 'withhighcredibilityandreliability', \n",
    "                    'generallyreliable', 'mostlyreliable', 'highlyreliable', 'reliablenewspaper', \n",
    "                    'mostlyreliableandreliable','reliablehigh', 'reliableandreliable','reliablefactchecker', 'fact']\n",
    "\n",
    "replace_leftlean = ['leftlean', 'leftcenterbias','notright','notrightbias']\n",
    "replace_rightlean = ['rightcenterbias','rightlean','rightleaning','rightleaningbias',\n",
    "                    'slightleanright','slightright', 'rleaningbias', 'notleft', 'notleftbias']\n",
    "\n",
    "def change_labels(df):\n",
    "    for st in remove:\n",
    "        df['large_label'] = df['large_label'].str.replace(st, '')\n",
    "    for st in replace_noncredible:\n",
    "        df['large_label'] = df['large_label'].str.replace(st, 'lowtrust')\n",
    "    for st in replace_mixed:\n",
    "        df['large_label'] = df['large_label'].str.replace(st, 'mixed')\n",
    "    for st in replace_credible:\n",
    "        df['large_label'] = df['large_label'].str.replace(st, 'reliable')\n",
    "    for st in replace_leftlean:\n",
    "        df['large_label'] = df['large_label'].str.replace(st, 'llean')\n",
    "    for st in replace_rightlean:\n",
    "        df['large_label'] = df['large_label'].str.replace(st, 'rlean')\n",
    "    df['large_label'] = df['large_label'].str.replace('pseudoscience', 'pseudo')\n",
    "    return df\n",
    "df_train, df_val, df_test = change_labels(df_train), change_labels(df_val), change_labels(df_test)"
   ]
  },
  {
   "cell_type": "code",
   "execution_count": 11,
   "id": "513fad30",
   "metadata": {
    "execution": {
     "iopub.execute_input": "2023-11-22T11:32:03.289119Z",
     "iopub.status.busy": "2023-11-22T11:32:03.288443Z",
     "iopub.status.idle": "2023-11-22T11:32:03.304956Z",
     "shell.execute_reply": "2023-11-22T11:32:03.303957Z"
    },
    "papermill": {
     "duration": 0.02928,
     "end_time": "2023-11-22T11:32:03.306889",
     "exception": false,
     "start_time": "2023-11-22T11:32:03.277609",
     "status": "completed"
    },
    "tags": []
   },
   "outputs": [
    {
     "name": "stdout",
     "output_type": "stream",
     "text": [
      "{'', 'sentinel', 'socialism', 'police', 'proscience', 'communism', 'christian', 'newschannel5', 'brexit', 'ny1', 'standard', '23abc', 'liberal', '11news', 'southafrica', 'mixed', 'centerbias', 'rleaning', 'australia', '(left)', 'tribune', 'legitimate', 'mytwntiers', 'journal', 'trump', 'marxism', 'tech', 'progressive', 'cityherald', 'freemarket', 'feminist', 'stockton', 'christianright', 'rightbias', 'conspiracy', 'myfox8', 'leastbiased', 'muslim', 'rightbiased', 'conservative', 'progressivedemocrat', 'chronicle', 'llean', 'vote.com', 'reliablechecker', 'reporter', 'lleanbias', 'libertarian', 'pseudo', 'prwatch', 'republican', 'american', 'fakenews', 'leftbiased', 'leftbias', 'india', 'propaganda', 'instituteforlegislativeaction', 'news9', 'orright', 'review', 'conservatitve', 'gazette', 'communist', 'socialist', 'conservativeleaning', 'tv', 'togeek', 'telegram', 'racist', 'lowtrust', 'bulletin', 'labor', 'liberalprogressive', 'rlean', 'anarchism', 'canada', 'dictatorship', 'news', 'capitalism', 'democrat', 'extremerightbias', 'right', 'cbnnews', '(right)', 'reliable', 'islandnews', 'science', 'altright', 'postcarboninstitute', 'minimalbias', 'not', 'nonbiased', 'reliablechecking', 'israel', 'orangecountyregisterisrleaned,conservative,libertarianwithhighcredibilityandreliable', 'reliablecheck', 'akp', 'liberal_progressive', 'democraticsocialist', 'leastbaised', 'rleanbias', 'clickondetroit', 'orconservative', 'palestine', 'labour', 'moorhead', 'lowbias', 'left', 'kusa', 'lgbtq', 'somebias', 'lancasteronline', 'tory', 'span', 'kyw', 'juneau'}\n"
     ]
    }
   ],
   "source": [
    "df = pd.DataFrame()\n",
    "df['words'] = df_train['large_label'].str.split('-')\n",
    "df['words'] = df['words'].apply(lambda x: x[1:])\n",
    "all_words_train = [word for words in df['words'] for word in words]\n",
    "\n",
    "df = pd.DataFrame()\n",
    "df['words'] = df_val['large_label'].str.split('-')\n",
    "df['words'] = df['words'].apply(lambda x: x[1:])\n",
    "all_words_val = [word for words in df['words'] for word in words]\n",
    "\n",
    "df = pd.DataFrame()\n",
    "df['words'] = df_test['large_label'].str.split('-')\n",
    "df['words'] = df['words'].apply(lambda x: x[1:])\n",
    "all_words_test = [word for words in df['words'] for word in words]\n",
    "\n",
    "unique_words = set(all_words_train + all_words_val + all_words_test)\n",
    "print(unique_words)"
   ]
  },
  {
   "cell_type": "code",
   "execution_count": 12,
   "id": "79271c6b",
   "metadata": {
    "execution": {
     "iopub.execute_input": "2023-11-22T11:32:03.329943Z",
     "iopub.status.busy": "2023-11-22T11:32:03.329338Z",
     "iopub.status.idle": "2023-11-22T11:32:03.334265Z",
     "shell.execute_reply": "2023-11-22T11:32:03.333284Z"
    },
    "papermill": {
     "duration": 0.019019,
     "end_time": "2023-11-22T11:32:03.336478",
     "exception": false,
     "start_time": "2023-11-22T11:32:03.317459",
     "status": "completed"
    },
    "tags": []
   },
   "outputs": [],
   "source": [
    "id2label = {\n",
    "    0: 'Left',\n",
    "    1: 'Right',\n",
    "    2: 'Liberal',\n",
    "    3: 'Conservative',\n",
    "    4: 'Credible',\n",
    "    5: 'Unreliable'\n",
    "}\n",
    "label2id = {v: k for k, v in id2label.items()}"
   ]
  },
  {
   "cell_type": "code",
   "execution_count": 13,
   "id": "dd69b2df",
   "metadata": {
    "execution": {
     "iopub.execute_input": "2023-11-22T11:32:03.360132Z",
     "iopub.status.busy": "2023-11-22T11:32:03.359815Z",
     "iopub.status.idle": "2023-11-22T11:32:03.367312Z",
     "shell.execute_reply": "2023-11-22T11:32:03.366373Z"
    },
    "papermill": {
     "duration": 0.022086,
     "end_time": "2023-11-22T11:32:03.369708",
     "exception": false,
     "start_time": "2023-11-22T11:32:03.347622",
     "status": "completed"
    },
    "tags": []
   },
   "outputs": [],
   "source": [
    "def new_column_value(label):\n",
    "    \n",
    "    label_mappings = {\n",
    "        'left': 0,\n",
    "        'llean': 0,\n",
    "        'right': 1,\n",
    "        'rlean': 1,\n",
    "        'liberal': 2,\n",
    "        'progressive': 2,\n",
    "        'democrat': 2,\n",
    "        'labour': 2,\n",
    "        'labor': 2,\n",
    "        'conserv': 3,\n",
    "        'libertarian': 3,\n",
    "        'republican': 3,\n",
    "        'tory': 3,\n",
    "        'leastbiased': 4,\n",
    "        'lowbias': 4,\n",
    "        'leastbaised': 4,\n",
    "        'minimalbias': 4,\n",
    "        'nonbiased': 4,\n",
    "        'center': 4,\n",
    "        'reliable': 4,\n",
    "        'mixed': 4,\n",
    "        'lowtrust': 5,\n",
    "        'fake': 5,\n",
    "    }\n",
    "    label_list = [0] * len(id2label)\n",
    "    for key, index in label_mappings.items():\n",
    "        if key in label:\n",
    "            label_list[index] = 1\n",
    "\n",
    "    return label_list"
   ]
  },
  {
   "cell_type": "code",
   "execution_count": 14,
   "id": "0b5407f4",
   "metadata": {
    "execution": {
     "iopub.execute_input": "2023-11-22T11:32:03.393174Z",
     "iopub.status.busy": "2023-11-22T11:32:03.392868Z",
     "iopub.status.idle": "2023-11-22T11:32:03.431533Z",
     "shell.execute_reply": "2023-11-22T11:32:03.430462Z"
    },
    "papermill": {
     "duration": 0.05296,
     "end_time": "2023-11-22T11:32:03.433728",
     "exception": false,
     "start_time": "2023-11-22T11:32:03.380768",
     "status": "completed"
    },
    "tags": []
   },
   "outputs": [],
   "source": [
    "df_train['labels'] = df_train['large_label'].apply(new_column_value)\n",
    "df_val['labels'] = df_val['large_label'].apply(new_column_value)\n",
    "df_test['labels'] = df_test['large_label'].apply(new_column_value)\n",
    "df_train = df_train.drop(columns=['json_file_path','label','large_label','mbfc_link'])\n",
    "df_val = df_val.drop(columns=['json_file_path','label','large_label','mbfc_link'])\n",
    "df_test = df_test.drop(columns=['json_file_path','label','large_label','mbfc_link'])\n",
    "df_train, df_val, df_test = df_train.explode('articles'), df_val.explode('articles'), df_test.explode('articles')\n",
    "df_train, df_val, df_test = df_train.reset_index(drop=True), df_val.reset_index(drop=True), df_test.reset_index(drop=True)"
   ]
  },
  {
   "cell_type": "code",
   "execution_count": 15,
   "id": "a63e4390",
   "metadata": {
    "execution": {
     "iopub.execute_input": "2023-11-22T11:32:03.457063Z",
     "iopub.status.busy": "2023-11-22T11:32:03.456752Z",
     "iopub.status.idle": "2023-11-22T11:32:07.652400Z",
     "shell.execute_reply": "2023-11-22T11:32:07.651425Z"
    },
    "papermill": {
     "duration": 4.210049,
     "end_time": "2023-11-22T11:32:07.654818",
     "exception": false,
     "start_time": "2023-11-22T11:32:03.444769",
     "status": "completed"
    },
    "tags": []
   },
   "outputs": [],
   "source": [
    "def article_format(article):\n",
    "    title = article['title'].strip(\"'\")\n",
    "    content = article['content'].strip(\"'\")\n",
    "    return title + ' ' + content\n",
    "\n",
    "def clean_text(s):\n",
    "    s = re.sub(r'[^a-zA-Z0-9\\s.,\\']+', ' ', s)\n",
    "    s = re.sub(r'\\s+', ' ', s)\n",
    "    return s\n",
    "\n",
    "df_train['articles'] = df_train['articles'].apply(article_format)\n",
    "df_val['articles'] = df_val['articles'].apply(article_format)\n",
    "df_test['articles'] = df_test['articles'].apply(article_format)\n",
    "\n",
    "new_name = {'articles': 'text'}\n",
    "\n",
    "df_train, df_val, df_test = df_train.rename(columns=new_name), df_val.rename(columns=new_name), df_test.rename(columns=new_name)\n",
    "\n",
    "df_train['text'] = df_train['text'].apply(clean_text)\n",
    "df_val['text'] = df_val['text'].apply(clean_text)\n",
    "df_test['text'] = df_test['text'].apply(clean_text)"
   ]
  },
  {
   "cell_type": "code",
   "execution_count": 16,
   "id": "c45c4674",
   "metadata": {
    "execution": {
     "iopub.execute_input": "2023-11-22T11:32:07.675556Z",
     "iopub.status.busy": "2023-11-22T11:32:07.675257Z",
     "iopub.status.idle": "2023-11-22T11:32:07.691049Z",
     "shell.execute_reply": "2023-11-22T11:32:07.690239Z"
    },
    "papermill": {
     "duration": 0.028224,
     "end_time": "2023-11-22T11:32:07.692908",
     "exception": false,
     "start_time": "2023-11-22T11:32:07.664684",
     "status": "completed"
    },
    "tags": []
   },
   "outputs": [
    {
     "data": {
      "text/html": [
       "<div>\n",
       "<style scoped>\n",
       "    .dataframe tbody tr th:only-of-type {\n",
       "        vertical-align: middle;\n",
       "    }\n",
       "\n",
       "    .dataframe tbody tr th {\n",
       "        vertical-align: top;\n",
       "    }\n",
       "\n",
       "    .dataframe thead th {\n",
       "        text-align: right;\n",
       "    }\n",
       "</style>\n",
       "<table border=\"1\" class=\"dataframe\">\n",
       "  <thead>\n",
       "    <tr style=\"text-align: right;\">\n",
       "      <th></th>\n",
       "      <th>source</th>\n",
       "      <th>text</th>\n",
       "      <th>labels</th>\n",
       "    </tr>\n",
       "  </thead>\n",
       "  <tbody>\n",
       "    <tr>\n",
       "      <th>0</th>\n",
       "      <td>ivn.us</td>\n",
       "      <td>An Independent Voter Guide to The Impeachment ...</td>\n",
       "      <td>[0, 0, 0, 0, 1, 0]</td>\n",
       "    </tr>\n",
       "    <tr>\n",
       "      <th>1</th>\n",
       "      <td>ivn.us</td>\n",
       "      <td>Witnesses of the Unseen Breaking Out of the Tw...</td>\n",
       "      <td>[0, 0, 0, 0, 1, 0]</td>\n",
       "    </tr>\n",
       "    <tr>\n",
       "      <th>2</th>\n",
       "      <td>ivn.us</td>\n",
       "      <td>Abolishing The Electoral College Could Have Ma...</td>\n",
       "      <td>[0, 0, 0, 0, 1, 0]</td>\n",
       "    </tr>\n",
       "    <tr>\n",
       "      <th>3</th>\n",
       "      <td>ivn.us</td>\n",
       "      <td>Mandate San Diego Voters Send Strong Message W...</td>\n",
       "      <td>[0, 0, 0, 0, 1, 0]</td>\n",
       "    </tr>\n",
       "    <tr>\n",
       "      <th>4</th>\n",
       "      <td>ivn.us</td>\n",
       "      <td>Chollas Creek Neighborhood Fights to Save its ...</td>\n",
       "      <td>[0, 0, 0, 0, 1, 0]</td>\n",
       "    </tr>\n",
       "    <tr>\n",
       "      <th>...</th>\n",
       "      <td>...</td>\n",
       "      <td>...</td>\n",
       "      <td>...</td>\n",
       "    </tr>\n",
       "    <tr>\n",
       "      <th>5355</th>\n",
       "      <td>lawenforcementtoday.com</td>\n",
       "      <td>California Supreme Court overturns 2005 death ...</td>\n",
       "      <td>[0, 1, 0, 1, 0, 1]</td>\n",
       "    </tr>\n",
       "    <tr>\n",
       "      <th>5356</th>\n",
       "      <td>lawenforcementtoday.com</td>\n",
       "      <td>Report Biden administration provided Taliban w...</td>\n",
       "      <td>[0, 1, 0, 1, 0, 1]</td>\n",
       "    </tr>\n",
       "    <tr>\n",
       "      <th>5357</th>\n",
       "      <td>lawenforcementtoday.com</td>\n",
       "      <td>What country is this Michigan s health departm...</td>\n",
       "      <td>[0, 1, 0, 1, 0, 1]</td>\n",
       "    </tr>\n",
       "    <tr>\n",
       "      <th>5358</th>\n",
       "      <td>lawenforcementtoday.com</td>\n",
       "      <td>California activist charged for ramming a car ...</td>\n",
       "      <td>[0, 1, 0, 1, 0, 1]</td>\n",
       "    </tr>\n",
       "    <tr>\n",
       "      <th>5359</th>\n",
       "      <td>lawenforcementtoday.com</td>\n",
       "      <td>Judge Oregon governor s stay at home orders un...</td>\n",
       "      <td>[0, 1, 0, 1, 0, 1]</td>\n",
       "    </tr>\n",
       "  </tbody>\n",
       "</table>\n",
       "<p>5360 rows × 3 columns</p>\n",
       "</div>"
      ],
      "text/plain": [
       "                       source  \\\n",
       "0                      ivn.us   \n",
       "1                      ivn.us   \n",
       "2                      ivn.us   \n",
       "3                      ivn.us   \n",
       "4                      ivn.us   \n",
       "...                       ...   \n",
       "5355  lawenforcementtoday.com   \n",
       "5356  lawenforcementtoday.com   \n",
       "5357  lawenforcementtoday.com   \n",
       "5358  lawenforcementtoday.com   \n",
       "5359  lawenforcementtoday.com   \n",
       "\n",
       "                                                   text              labels  \n",
       "0     An Independent Voter Guide to The Impeachment ...  [0, 0, 0, 0, 1, 0]  \n",
       "1     Witnesses of the Unseen Breaking Out of the Tw...  [0, 0, 0, 0, 1, 0]  \n",
       "2     Abolishing The Electoral College Could Have Ma...  [0, 0, 0, 0, 1, 0]  \n",
       "3     Mandate San Diego Voters Send Strong Message W...  [0, 0, 0, 0, 1, 0]  \n",
       "4     Chollas Creek Neighborhood Fights to Save its ...  [0, 0, 0, 0, 1, 0]  \n",
       "...                                                 ...                 ...  \n",
       "5355  California Supreme Court overturns 2005 death ...  [0, 1, 0, 1, 0, 1]  \n",
       "5356  Report Biden administration provided Taliban w...  [0, 1, 0, 1, 0, 1]  \n",
       "5357  What country is this Michigan s health departm...  [0, 1, 0, 1, 0, 1]  \n",
       "5358  California activist charged for ramming a car ...  [0, 1, 0, 1, 0, 1]  \n",
       "5359  Judge Oregon governor s stay at home orders un...  [0, 1, 0, 1, 0, 1]  \n",
       "\n",
       "[5360 rows x 3 columns]"
      ]
     },
     "execution_count": 16,
     "metadata": {},
     "output_type": "execute_result"
    }
   ],
   "source": [
    "df_train"
   ]
  },
  {
   "cell_type": "code",
   "execution_count": 17,
   "id": "354d166f",
   "metadata": {
    "execution": {
     "iopub.execute_input": "2023-11-22T11:32:07.713581Z",
     "iopub.status.busy": "2023-11-22T11:32:07.713078Z",
     "iopub.status.idle": "2023-11-22T11:32:07.838504Z",
     "shell.execute_reply": "2023-11-22T11:32:07.837712Z"
    },
    "papermill": {
     "duration": 0.138274,
     "end_time": "2023-11-22T11:32:07.840831",
     "exception": false,
     "start_time": "2023-11-22T11:32:07.702557",
     "status": "completed"
    },
    "tags": []
   },
   "outputs": [],
   "source": [
    "df_final_train = pd.concat([df_train, df_val], ignore_index=True)\n",
    "train_dataset = Dataset.from_dict(df_final_train)\n",
    "test_dataset = Dataset.from_dict(df_test)\n",
    "my_dataset_dict = DatasetDict({'train': train_dataset, 'test': test_dataset})"
   ]
  },
  {
   "cell_type": "code",
   "execution_count": 18,
   "id": "9c12a2fc",
   "metadata": {
    "execution": {
     "iopub.execute_input": "2023-11-22T11:32:07.862274Z",
     "iopub.status.busy": "2023-11-22T11:32:07.861751Z",
     "iopub.status.idle": "2023-11-22T11:32:27.746374Z",
     "shell.execute_reply": "2023-11-22T11:32:27.745425Z"
    },
    "papermill": {
     "duration": 19.897501,
     "end_time": "2023-11-22T11:32:27.748352",
     "exception": false,
     "start_time": "2023-11-22T11:32:07.850851",
     "status": "completed"
    },
    "tags": []
   },
   "outputs": [
    {
     "data": {
      "application/vnd.jupyter.widget-view+json": {
       "model_id": "4ef46e78eb0b4a339af6e8a7578c866b",
       "version_major": 2,
       "version_minor": 0
      },
      "text/plain": [
       "tokenizer_config.json:   0%|          | 0.00/52.0 [00:00<?, ?B/s]"
      ]
     },
     "metadata": {},
     "output_type": "display_data"
    },
    {
     "data": {
      "application/vnd.jupyter.widget-view+json": {
       "model_id": "cb31f03dbd3f43fca2a039977d13dca9",
       "version_major": 2,
       "version_minor": 0
      },
      "text/plain": [
       "config.json:   0%|          | 0.00/578 [00:00<?, ?B/s]"
      ]
     },
     "metadata": {},
     "output_type": "display_data"
    },
    {
     "data": {
      "application/vnd.jupyter.widget-view+json": {
       "model_id": "b55b4194fec742f9b1af4433fdb15693",
       "version_major": 2,
       "version_minor": 0
      },
      "text/plain": [
       "spm.model:   0%|          | 0.00/2.46M [00:00<?, ?B/s]"
      ]
     },
     "metadata": {},
     "output_type": "display_data"
    },
    {
     "name": "stderr",
     "output_type": "stream",
     "text": [
      "/opt/conda/lib/python3.10/site-packages/transformers/convert_slow_tokenizer.py:473: UserWarning: The sentencepiece tokenizer that you are converting to a fast tokenizer uses the byte fallback option which is not implemented in the fast tokenizers. In practice this means that the fast version of the tokenizer can produce unknown tokens whereas the sentencepiece version would have converted these unknown tokens into a sequence of byte tokens matching the original piece of text.\n",
      "  warnings.warn(\n"
     ]
    },
    {
     "name": "stdout",
     "output_type": "stream",
     "text": [
      "512\n"
     ]
    },
    {
     "data": {
      "application/vnd.jupyter.widget-view+json": {
       "model_id": "74aab112c5264774bb736e5c03753708",
       "version_major": 2,
       "version_minor": 0
      },
      "text/plain": [
       "Map:   0%|          | 0/6068 [00:00<?, ? examples/s]"
      ]
     },
     "metadata": {},
     "output_type": "display_data"
    },
    {
     "data": {
      "application/vnd.jupyter.widget-view+json": {
       "model_id": "cbdabc2bacad43708509f8738657ab47",
       "version_major": 2,
       "version_minor": 0
      },
      "text/plain": [
       "Map:   0%|          | 0/574 [00:00<?, ? examples/s]"
      ]
     },
     "metadata": {},
     "output_type": "display_data"
    }
   ],
   "source": [
    "tokenizer = AutoTokenizer.from_pretrained('microsoft/deberta-v3-xsmall', model_max_length=512, use_fast=True)\n",
    "def preprocess_function(mydata):\n",
    "    return tokenizer(mydata['text'], truncation=True)\n",
    "print(tokenizer.model_max_length)\n",
    "tokenized_data = my_dataset_dict.map(preprocess_function, batched=True)"
   ]
  },
  {
   "cell_type": "code",
   "execution_count": 19,
   "id": "d6f684b2",
   "metadata": {
    "execution": {
     "iopub.execute_input": "2023-11-22T11:32:27.771883Z",
     "iopub.status.busy": "2023-11-22T11:32:27.771558Z",
     "iopub.status.idle": "2023-11-22T11:32:27.784128Z",
     "shell.execute_reply": "2023-11-22T11:32:27.783263Z"
    },
    "papermill": {
     "duration": 0.026407,
     "end_time": "2023-11-22T11:32:27.786007",
     "exception": false,
     "start_time": "2023-11-22T11:32:27.759600",
     "status": "completed"
    },
    "tags": []
   },
   "outputs": [
    {
     "data": {
      "text/plain": [
       "DatasetDict({\n",
       "    train: Dataset({\n",
       "        features: ['labels', 'input_ids', 'attention_mask'],\n",
       "        num_rows: 6068\n",
       "    })\n",
       "    test: Dataset({\n",
       "        features: ['labels', 'input_ids', 'attention_mask'],\n",
       "        num_rows: 574\n",
       "    })\n",
       "})"
      ]
     },
     "execution_count": 19,
     "metadata": {},
     "output_type": "execute_result"
    }
   ],
   "source": [
    "tokenized_data = tokenized_data.with_format(type=\"torch\", columns=[\"input_ids\", \"attention_mask\", \"labels\"])\n",
    "data_collator = DataCollatorWithPadding(tokenizer=tokenizer)\n",
    "tokenized_data = tokenized_data.remove_columns(['source', 'text', 'token_type_ids'])\n",
    "tokenized_data"
   ]
  },
  {
   "cell_type": "code",
   "execution_count": 20,
   "id": "0cf73629",
   "metadata": {
    "execution": {
     "iopub.execute_input": "2023-11-22T11:32:27.808856Z",
     "iopub.status.busy": "2023-11-22T11:32:27.808584Z",
     "iopub.status.idle": "2023-11-22T11:32:27.861580Z",
     "shell.execute_reply": "2023-11-22T11:32:27.860734Z"
    },
    "papermill": {
     "duration": 0.066479,
     "end_time": "2023-11-22T11:32:27.863460",
     "exception": false,
     "start_time": "2023-11-22T11:32:27.796981",
     "status": "completed"
    },
    "tags": []
   },
   "outputs": [
    {
     "data": {
      "text/plain": [
       "{'input_ids': tensor([   1, 8038,    2,    0,    0]),\n",
       " 'attention_mask': tensor([1, 1, 1, 0, 0])}"
      ]
     },
     "execution_count": 20,
     "metadata": {},
     "output_type": "execute_result"
    }
   ],
   "source": [
    "tokenized_id2label = {key: tokenizer(value, return_tensors='pt', padding='max_length', max_length=5, return_token_type_ids=False) for key, value in id2label.items()}\n",
    "tokenized_id2label = {\n",
    "    key: {tensor_name: tensor.squeeze(0) for tensor_name, tensor in inner_dict.items()}\n",
    "    for key, inner_dict in tokenized_id2label.items()\n",
    "}\n",
    "tokenized_id2label[0]"
   ]
  },
  {
   "cell_type": "code",
   "execution_count": 21,
   "id": "cf9ae260",
   "metadata": {
    "execution": {
     "iopub.execute_input": "2023-11-22T11:32:27.886829Z",
     "iopub.status.busy": "2023-11-22T11:32:27.886557Z",
     "iopub.status.idle": "2023-11-22T11:32:27.903162Z",
     "shell.execute_reply": "2023-11-22T11:32:27.902349Z"
    },
    "papermill": {
     "duration": 0.030397,
     "end_time": "2023-11-22T11:32:27.905082",
     "exception": false,
     "start_time": "2023-11-22T11:32:27.874685",
     "status": "completed"
    },
    "tags": []
   },
   "outputs": [
    {
     "data": {
      "text/plain": [
       "tensor([0, 0, 0, 0, 1, 0])"
      ]
     },
     "execution_count": 21,
     "metadata": {},
     "output_type": "execute_result"
    }
   ],
   "source": [
    "example = tokenized_data['train'][0]\n",
    "example['labels']"
   ]
  },
  {
   "cell_type": "code",
   "execution_count": 22,
   "id": "9d843bce",
   "metadata": {
    "execution": {
     "iopub.execute_input": "2023-11-22T11:32:27.928827Z",
     "iopub.status.busy": "2023-11-22T11:32:27.928581Z",
     "iopub.status.idle": "2023-11-22T11:32:31.095604Z",
     "shell.execute_reply": "2023-11-22T11:32:31.094586Z"
    },
    "papermill": {
     "duration": 3.181385,
     "end_time": "2023-11-22T11:32:31.097909",
     "exception": false,
     "start_time": "2023-11-22T11:32:27.916524",
     "status": "completed"
    },
    "tags": []
   },
   "outputs": [
    {
     "data": {
      "application/vnd.jupyter.widget-view+json": {
       "model_id": "50ea563c14824eac8893a7276c387e00",
       "version_major": 2,
       "version_minor": 0
      },
      "text/plain": [
       "pytorch_model.bin:   0%|          | 0.00/241M [00:00<?, ?B/s]"
      ]
     },
     "metadata": {},
     "output_type": "display_data"
    },
    {
     "data": {
      "text/plain": [
       "DebertaV2Model(\n",
       "  (embeddings): DebertaV2Embeddings(\n",
       "    (word_embeddings): Embedding(128100, 384, padding_idx=0)\n",
       "    (LayerNorm): LayerNorm((384,), eps=1e-07, elementwise_affine=True)\n",
       "    (dropout): StableDropout()\n",
       "  )\n",
       "  (encoder): DebertaV2Encoder(\n",
       "    (layer): ModuleList(\n",
       "      (0-11): 12 x DebertaV2Layer(\n",
       "        (attention): DebertaV2Attention(\n",
       "          (self): DisentangledSelfAttention(\n",
       "            (query_proj): Linear(in_features=384, out_features=384, bias=True)\n",
       "            (key_proj): Linear(in_features=384, out_features=384, bias=True)\n",
       "            (value_proj): Linear(in_features=384, out_features=384, bias=True)\n",
       "            (pos_dropout): StableDropout()\n",
       "            (dropout): StableDropout()\n",
       "          )\n",
       "          (output): DebertaV2SelfOutput(\n",
       "            (dense): Linear(in_features=384, out_features=384, bias=True)\n",
       "            (LayerNorm): LayerNorm((384,), eps=1e-07, elementwise_affine=True)\n",
       "            (dropout): StableDropout()\n",
       "          )\n",
       "        )\n",
       "        (intermediate): DebertaV2Intermediate(\n",
       "          (dense): Linear(in_features=384, out_features=1536, bias=True)\n",
       "          (intermediate_act_fn): GELUActivation()\n",
       "        )\n",
       "        (output): DebertaV2Output(\n",
       "          (dense): Linear(in_features=1536, out_features=384, bias=True)\n",
       "          (LayerNorm): LayerNorm((384,), eps=1e-07, elementwise_affine=True)\n",
       "          (dropout): StableDropout()\n",
       "        )\n",
       "      )\n",
       "    )\n",
       "    (rel_embeddings): Embedding(512, 384)\n",
       "    (LayerNorm): LayerNorm((384,), eps=1e-07, elementwise_affine=True)\n",
       "  )\n",
       ")"
      ]
     },
     "execution_count": 22,
     "metadata": {},
     "output_type": "execute_result"
    }
   ],
   "source": [
    "model = AutoModel.from_pretrained('microsoft/deberta-v3-xsmall')\n",
    "model"
   ]
  },
  {
   "cell_type": "markdown",
   "metadata": {},
   "source": [
    " Dataset for descriptions"
   ]
  },
  {
   "cell_type": "code",
   "execution_count": 23,
   "id": "399f0764",
   "metadata": {
    "execution": {
     "iopub.execute_input": "2023-11-22T11:32:31.124722Z",
     "iopub.status.busy": "2023-11-22T11:32:31.123990Z",
     "iopub.status.idle": "2023-11-22T11:32:31.130262Z",
     "shell.execute_reply": "2023-11-22T11:32:31.129445Z"
    },
    "papermill": {
     "duration": 0.021221,
     "end_time": "2023-11-22T11:32:31.132068",
     "exception": false,
     "start_time": "2023-11-22T11:32:31.110847",
     "status": "completed"
    },
    "tags": []
   },
   "outputs": [],
   "source": [
    "class CustomDataset(torch.utils.data.Dataset):\n",
    "    def __init__(self, data_dict):\n",
    "        self.data_dict = data_dict\n",
    "        self.keys = list(data_dict.keys())\n",
    "\n",
    "    def __len__(self):\n",
    "        return len(self.keys)\n",
    "\n",
    "    def __getitem__(self, idx):\n",
    "        key = self.keys[idx]\n",
    "        sample = self.data_dict[key]\n",
    "        \n",
    "        return {'input_ids': sample['input_ids'], 'attention_mask': sample['attention_mask']}\n",
    "\n",
    "descdataset = CustomDataset(tokenized_id2label)"
   ]
  },
  {
   "cell_type": "code",
   "execution_count": 24,
   "id": "355fdaa2",
   "metadata": {
    "execution": {
     "iopub.execute_input": "2023-11-22T11:32:31.157105Z",
     "iopub.status.busy": "2023-11-22T11:32:31.156811Z",
     "iopub.status.idle": "2023-11-22T11:32:31.162339Z",
     "shell.execute_reply": "2023-11-22T11:32:31.161488Z"
    },
    "papermill": {
     "duration": 0.019963,
     "end_time": "2023-11-22T11:32:31.164329",
     "exception": false,
     "start_time": "2023-11-22T11:32:31.144366",
     "status": "completed"
    },
    "tags": []
   },
   "outputs": [],
   "source": [
    "def get_dataloaders(batch_size):\n",
    "    batch_size = batch_size\n",
    "    train_dataloader = DataLoader(\n",
    "        tokenized_data['train'], shuffle=True, batch_size=batch_size, collate_fn=data_collator\n",
    "    )\n",
    "    test_dataloader = DataLoader(\n",
    "        tokenized_data['test'], batch_size=batch_size, collate_fn=data_collator\n",
    "    )\n",
    "    desc_dataloader = DataLoader(descdataset, batch_size=len(descdataset), shuffle=False)\n",
    "    return train_dataloader, test_dataloader, desc_dataloader"
   ]
  },
  {
   "cell_type": "markdown",
   "metadata": {},
   "source": [
    "#### Easy positive-hard negative mining"
   ]
  },
  {
   "cell_type": "code",
   "execution_count": 25,
   "id": "69b2b866",
   "metadata": {
    "execution": {
     "iopub.execute_input": "2023-11-22T11:32:31.238125Z",
     "iopub.status.busy": "2023-11-22T11:32:31.237349Z",
     "iopub.status.idle": "2023-11-22T11:32:31.243346Z",
     "shell.execute_reply": "2023-11-22T11:32:31.242493Z"
    },
    "papermill": {
     "duration": 0.022656,
     "end_time": "2023-11-22T11:32:31.245919",
     "exception": false,
     "start_time": "2023-11-22T11:32:31.223263",
     "status": "completed"
    },
    "tags": []
   },
   "outputs": [],
   "source": [
    "def hard_miner(anchors, samples, labels):\n",
    "    distances = F.pairwise_distance(anchors.unsqueeze(1), samples.unsqueeze(0))\n",
    "    \n",
    "    pos_distances = distances * labels\n",
    "    easy_pos = samples[torch.argmin(pos_distances, dim=1)]\n",
    "    \n",
    "    neg_distances = distances * (1 - labels) + 65500 * labels # make positive ones large to avoid 0s\n",
    "    hardest_neg = samples[torch.argmin(neg_distances, dim=1)]\n",
    "\n",
    "    return easy_pos, hardest_neg"
   ]
  },
  {
   "cell_type": "markdown",
   "metadata": {},
   "source": [
    "#### Easy positive-semi hard negative mining "
   ]
  },
  {
   "cell_type": "code",
   "execution_count": 26,
   "id": "94d7278d",
   "metadata": {
    "execution": {
     "iopub.execute_input": "2023-11-22T11:32:31.271448Z",
     "iopub.status.busy": "2023-11-22T11:32:31.270885Z",
     "iopub.status.idle": "2023-11-22T11:32:31.277296Z",
     "shell.execute_reply": "2023-11-22T11:32:31.276464Z"
    },
    "papermill": {
     "duration": 0.021359,
     "end_time": "2023-11-22T11:32:31.279248",
     "exception": false,
     "start_time": "2023-11-22T11:32:31.257889",
     "status": "completed"
    },
    "tags": []
   },
   "outputs": [],
   "source": [
    "def semi_hard_miner(anchors, samples, labels, margin):\n",
    "    distances = F.pairwise_distance(anchors.unsqueeze(1), samples.unsqueeze(0))\n",
    "\n",
    "    pos_distances = distances * labels\n",
    "    easy_dist, easy_idx = torch.min(pos_distances, dim=1)\n",
    "    easy_pos = samples[easy_idx]\n",
    "\n",
    "    neg_distances = distances * (1 - labels) + 65500 * labels  # make positive ones large to avoid 0s\n",
    "\n",
    "    mask = (neg_distances > easy_dist.view(-1, 1)) & (neg_distances < (easy_dist + margin).view(-1, 1))\n",
    "    indices = torch.argmax(neg_distances * mask, dim=1)\n",
    "  \n",
    "    semi_hard_negatives = samples[indices]\n",
    "\n",
    "    return easy_pos, semi_hard_negatives"
   ]
  },
  {
   "cell_type": "code",
   "execution_count": 27,
   "id": "510709dc",
   "metadata": {
    "execution": {
     "iopub.execute_input": "2023-11-22T11:32:31.303982Z",
     "iopub.status.busy": "2023-11-22T11:32:31.303472Z",
     "iopub.status.idle": "2023-11-22T11:32:31.309332Z",
     "shell.execute_reply": "2023-11-22T11:32:31.308534Z"
    },
    "papermill": {
     "duration": 0.020011,
     "end_time": "2023-11-22T11:32:31.311095",
     "exception": false,
     "start_time": "2023-11-22T11:32:31.291084",
     "status": "completed"
    },
    "tags": []
   },
   "outputs": [],
   "source": [
    "class CustomTripletMarginLoss(nn.Module):\n",
    "    def __init__(self, margin=1.0):\n",
    "        super(CustomTripletMarginLoss, self).__init__()\n",
    "        self.margin = margin\n",
    "\n",
    "    def forward(self, anchor, positive, negative):\n",
    "        pos_distance = F.pairwise_distance(anchor, positive)\n",
    "        neg_distance = F.pairwise_distance(anchor, negative)\n",
    "        \n",
    "        loss = F.relu((pos_distance - neg_distance) / (torch.mean(neg_distance) + 1e-4) + self.margin)\n",
    "\n",
    "        return torch.mean(loss)"
   ]
  },
  {
   "cell_type": "code",
   "execution_count": 28,
   "id": "8b016547",
   "metadata": {
    "execution": {
     "iopub.execute_input": "2023-11-22T11:32:31.335940Z",
     "iopub.status.busy": "2023-11-22T11:32:31.335415Z",
     "iopub.status.idle": "2023-11-22T11:32:31.350415Z",
     "shell.execute_reply": "2023-11-22T11:32:31.349617Z"
    },
    "papermill": {
     "duration": 0.029655,
     "end_time": "2023-11-22T11:32:31.352394",
     "exception": false,
     "start_time": "2023-11-22T11:32:31.322739",
     "status": "completed"
    },
    "tags": []
   },
   "outputs": [],
   "source": [
    "def training_function(model, mixed_precision='fp16', seed=42, batch_size=64, lrate=2e-5, num_epochs=10, num_proc=1):\n",
    "    set_seed(seed)\n",
    "    accelerator = Accelerator(mixed_precision=mixed_precision)\n",
    "    \n",
    "    if accelerator.is_main_process:\n",
    "        datasets.utils.logging.set_verbosity_warning()\n",
    "        datasets.utils.logging.set_verbosity_info()\n",
    "    else:\n",
    "        datasets.utils.logging.set_verbosity_error()\n",
    "        transformers.utils.logging.set_verbosity_error()\n",
    "    \n",
    "    accelerator.print(f'Getting dataloaders...')\n",
    "    \n",
    "    train_dataloader, _, desc_dataloader = get_dataloaders(batch_size)\n",
    "    \n",
    "    optimizer = torch.optim.AdamW(params=model.parameters(), lr=lrate)\n",
    "    #lr_scheduler = OneCycleLR(optimizer=optimizer, max_lr=0.003, epochs=num_epochs, steps_per_epoch=len(train_dataloader))\n",
    "    margin = 0.2\n",
    "    #triplet_loss = nn.TripletMarginWithDistanceLoss(margin=margin)\n",
    "    triplet_loss = CustomTripletMarginLoss(margin=margin)\n",
    "    model, optimizer, train_dataloader, desc_dataloader = accelerator.prepare(\n",
    "        model, optimizer, train_dataloader, desc_dataloader\n",
    "    )\n",
    "    accelerator.print(f'Begin epochs...')\n",
    "    progress_bar = tqdm(range(num_epochs * len(train_dataloader)), disable=not accelerator.is_main_process)\n",
    "    \n",
    "    model.train()\n",
    "    for epoch in range(num_epochs):\n",
    "        train_loss = []\n",
    "        val_loss = []\n",
    "        for batch in train_dataloader:\n",
    "            labels = batch['labels']\n",
    "            embeddings = model(input_ids=batch['input_ids'],\n",
    "                                    attention_mask=batch['attention_mask']).last_hidden_state\n",
    "            embeddings = torch.mean(embeddings, dim=1)\n",
    "            \n",
    "            for desc in desc_dataloader:\n",
    "                samples = model(input_ids=desc['input_ids'], attention_mask=desc['attention_mask']).last_hidden_state\n",
    "                samples = torch.mean(samples, dim=1)\n",
    "            \n",
    "            concat_embeds = torch.cat((embeddings, samples), dim=0)\n",
    "            norm_embeds = F.normalize(concat_embeds, p=2, dim=1)\n",
    "            embeddings, samples = norm_embeds[:embeddings.size(0)], norm_embeds[embeddings.size(0):]\n",
    "            if epoch < 10:\n",
    "                pos_samples, neg_samples = semi_hard_miner(embeddings, samples, labels, margin)\n",
    "                pos_texts, neg_texts = semi_hard_miner(samples, embeddings, labels.T, margin)\n",
    "            else:\n",
    "                pos_samples, neg_samples = hard_miner(embeddings, samples, labels)\n",
    "                pos_texts, neg_texts = hard_miner(samples, embeddings, labels.T)\n",
    "            \n",
    "            loss = triplet_loss(embeddings, pos_samples, neg_samples)\n",
    "            loss_samples = triplet_loss(samples, pos_texts, neg_texts)\n",
    "            \n",
    "            total_loss = loss + loss_samples\n",
    "            accelerator.backward(total_loss)\n",
    "            optimizer.step()\n",
    "            #lr_scheduler.step()\n",
    "            optimizer.zero_grad()\n",
    "            train_loss.append(total_loss.detach().cpu().numpy())\n",
    "            \n",
    "            progress_bar.update(1)\n",
    "\n",
    "        avg_train_loss = np.mean(np.array(train_loss)) / num_proc # multi gpu case\n",
    "        accelerator.print(f'Epoch {epoch+1}, training loss: {avg_train_loss: .4f}')\n",
    "        "
   ]
  },
  {
   "cell_type": "code",
   "execution_count": 29,
   "id": "8586f867",
   "metadata": {
    "execution": {
     "iopub.execute_input": "2023-11-22T11:32:31.376963Z",
     "iopub.status.busy": "2023-11-22T11:32:31.376684Z",
     "iopub.status.idle": "2023-11-22T12:07:00.853610Z",
     "shell.execute_reply": "2023-11-22T12:07:00.852006Z"
    },
    "papermill": {
     "duration": 2069.491682,
     "end_time": "2023-11-22T12:07:00.856078",
     "exception": false,
     "start_time": "2023-11-22T11:32:31.364396",
     "status": "completed"
    },
    "tags": []
   },
   "outputs": [
    {
     "name": "stdout",
     "output_type": "stream",
     "text": [
      "Launching training on 2 GPUs.\n"
     ]
    },
    {
     "name": "stderr",
     "output_type": "stream",
     "text": [
      "huggingface/tokenizers: The current process just got forked, after parallelism has already been used. Disabling parallelism to avoid deadlocks...\n",
      "To disable this warning, you can either:\n",
      "\t- Avoid using `tokenizers` before the fork if possible\n",
      "\t- Explicitly set the environment variable TOKENIZERS_PARALLELISM=(true | false)\n"
     ]
    },
    {
     "name": "stdout",
     "output_type": "stream",
     "text": [
      "Getting dataloaders...\n"
     ]
    },
    {
     "name": "stderr",
     "output_type": "stream",
     "text": [
      "huggingface/tokenizers: The current process just got forked, after parallelism has already been used. Disabling parallelism to avoid deadlocks...\n",
      "To disable this warning, you can either:\n",
      "\t- Avoid using `tokenizers` before the fork if possible\n",
      "\t- Explicitly set the environment variable TOKENIZERS_PARALLELISM=(true | false)\n"
     ]
    },
    {
     "name": "stdout",
     "output_type": "stream",
     "text": [
      "Begin epochs...\n"
     ]
    },
    {
     "name": "stderr",
     "output_type": "stream",
     "text": [
      "  0%|          | 0/1900 [00:00<?, ?it/s]You're using a DebertaV2TokenizerFast tokenizer. Please note that with a fast tokenizer, using the `__call__` method is faster than using a method to encode the text followed by a call to the `pad` method to get a padded encoding.\n",
      "  5%|▌         | 95/1900 [01:45<32:36,  1.08s/it]"
     ]
    },
    {
     "name": "stdout",
     "output_type": "stream",
     "text": [
      "Epoch 1, training loss:  0.1755\n"
     ]
    },
    {
     "name": "stderr",
     "output_type": "stream",
     "text": [
      " 10%|█         | 190/1900 [03:28<30:46,  1.08s/it]"
     ]
    },
    {
     "name": "stdout",
     "output_type": "stream",
     "text": [
      "Epoch 2, training loss:  0.1632\n"
     ]
    },
    {
     "name": "stderr",
     "output_type": "stream",
     "text": [
      " 15%|█▌        | 285/1900 [05:10<28:53,  1.07s/it]"
     ]
    },
    {
     "name": "stdout",
     "output_type": "stream",
     "text": [
      "Epoch 3, training loss:  0.1712\n"
     ]
    },
    {
     "name": "stderr",
     "output_type": "stream",
     "text": [
      " 20%|██        | 380/1900 [06:54<27:26,  1.08s/it]"
     ]
    },
    {
     "name": "stdout",
     "output_type": "stream",
     "text": [
      "Epoch 4, training loss:  0.1860\n"
     ]
    },
    {
     "name": "stderr",
     "output_type": "stream",
     "text": [
      " 25%|██▌       | 475/1900 [08:37<25:38,  1.08s/it]"
     ]
    },
    {
     "name": "stdout",
     "output_type": "stream",
     "text": [
      "Epoch 5, training loss:  0.2324\n"
     ]
    },
    {
     "name": "stderr",
     "output_type": "stream",
     "text": [
      " 30%|███       | 570/1900 [10:20<23:53,  1.08s/it]"
     ]
    },
    {
     "name": "stdout",
     "output_type": "stream",
     "text": [
      "Epoch 6, training loss:  0.2335\n"
     ]
    },
    {
     "name": "stderr",
     "output_type": "stream",
     "text": [
      " 35%|███▌      | 665/1900 [12:03<22:07,  1.08s/it]"
     ]
    },
    {
     "name": "stdout",
     "output_type": "stream",
     "text": [
      "Epoch 7, training loss:  0.2179\n"
     ]
    },
    {
     "name": "stderr",
     "output_type": "stream",
     "text": [
      " 40%|████      | 760/1900 [13:47<20:38,  1.09s/it]"
     ]
    },
    {
     "name": "stdout",
     "output_type": "stream",
     "text": [
      "Epoch 8, training loss:  0.2178\n"
     ]
    },
    {
     "name": "stderr",
     "output_type": "stream",
     "text": [
      " 45%|████▌     | 855/1900 [15:30<18:46,  1.08s/it]"
     ]
    },
    {
     "name": "stdout",
     "output_type": "stream",
     "text": [
      "Epoch 9, training loss:  0.2070\n"
     ]
    },
    {
     "name": "stderr",
     "output_type": "stream",
     "text": [
      " 50%|█████     | 950/1900 [17:13<17:06,  1.08s/it]"
     ]
    },
    {
     "name": "stdout",
     "output_type": "stream",
     "text": [
      "Epoch 10, training loss:  0.2047\n"
     ]
    },
    {
     "name": "stderr",
     "output_type": "stream",
     "text": [
      " 55%|█████▌    | 1045/1900 [18:56<15:24,  1.08s/it]"
     ]
    },
    {
     "name": "stdout",
     "output_type": "stream",
     "text": [
      "Epoch 11, training loss:  0.3198\n"
     ]
    },
    {
     "name": "stderr",
     "output_type": "stream",
     "text": [
      " 60%|██████    | 1140/1900 [20:39<13:40,  1.08s/it]"
     ]
    },
    {
     "name": "stdout",
     "output_type": "stream",
     "text": [
      "Epoch 12, training loss:  0.2229\n"
     ]
    },
    {
     "name": "stderr",
     "output_type": "stream",
     "text": [
      " 65%|██████▌   | 1235/1900 [22:22<11:57,  1.08s/it]"
     ]
    },
    {
     "name": "stdout",
     "output_type": "stream",
     "text": [
      "Epoch 13, training loss:  0.2101\n"
     ]
    },
    {
     "name": "stderr",
     "output_type": "stream",
     "text": [
      " 70%|███████   | 1330/1900 [24:05<10:14,  1.08s/it]"
     ]
    },
    {
     "name": "stdout",
     "output_type": "stream",
     "text": [
      "Epoch 14, training loss:  0.2075\n"
     ]
    },
    {
     "name": "stderr",
     "output_type": "stream",
     "text": [
      " 75%|███████▌  | 1425/1900 [25:48<08:30,  1.07s/it]"
     ]
    },
    {
     "name": "stdout",
     "output_type": "stream",
     "text": [
      "Epoch 15, training loss:  0.2050\n"
     ]
    },
    {
     "name": "stderr",
     "output_type": "stream",
     "text": [
      " 80%|████████  | 1520/1900 [27:31<06:51,  1.08s/it]"
     ]
    },
    {
     "name": "stdout",
     "output_type": "stream",
     "text": [
      "Epoch 16, training loss:  0.2048\n"
     ]
    },
    {
     "name": "stderr",
     "output_type": "stream",
     "text": [
      " 85%|████████▌ | 1615/1900 [29:13<05:06,  1.08s/it]"
     ]
    },
    {
     "name": "stdout",
     "output_type": "stream",
     "text": [
      "Epoch 17, training loss:  0.2034\n"
     ]
    },
    {
     "name": "stderr",
     "output_type": "stream",
     "text": [
      " 90%|█████████ | 1710/1900 [30:56<03:25,  1.08s/it]"
     ]
    },
    {
     "name": "stdout",
     "output_type": "stream",
     "text": [
      "Epoch 18, training loss:  0.2032\n"
     ]
    },
    {
     "name": "stderr",
     "output_type": "stream",
     "text": [
      " 95%|█████████▌| 1805/1900 [32:39<01:43,  1.09s/it]"
     ]
    },
    {
     "name": "stdout",
     "output_type": "stream",
     "text": [
      "Epoch 19, training loss:  0.2033\n"
     ]
    },
    {
     "name": "stderr",
     "output_type": "stream",
     "text": [
      "100%|██████████| 1900/1900 [34:22<00:00,  1.08s/it]"
     ]
    },
    {
     "name": "stdout",
     "output_type": "stream",
     "text": [
      "Epoch 20, training loss:  0.2026\n"
     ]
    },
    {
     "name": "stderr",
     "output_type": "stream",
     "text": [
      "100%|██████████| 1900/1900 [34:22<00:00,  1.09s/it]\n"
     ]
    }
   ],
   "source": [
    "seed = 42\n",
    "batchsize = 32\n",
    "lr = 3e-4\n",
    "epochs = 20\n",
    "numproc = 2 # how many gpus are used\n",
    "args = (model, 'fp16', seed, batchsize, lr, epochs, numproc)\n",
    "notebook_launcher(training_function, args, num_processes=numproc)\n",
    "model.save_pretrained('deberta-metric-reduced-final')"
   ]
  },
  {
   "cell_type": "code",
   "execution_count": 30,
   "id": "aad26cf6",
   "metadata": {
    "execution": {
     "iopub.execute_input": "2023-11-22T12:07:01.185024Z",
     "iopub.status.busy": "2023-11-22T12:07:01.184194Z",
     "iopub.status.idle": "2023-11-22T12:07:15.234624Z",
     "shell.execute_reply": "2023-11-22T12:07:15.233671Z"
    },
    "papermill": {
     "duration": 14.219694,
     "end_time": "2023-11-22T12:07:15.237026",
     "exception": false,
     "start_time": "2023-11-22T12:07:01.017332",
     "status": "completed"
    },
    "tags": []
   },
   "outputs": [
    {
     "name": "stderr",
     "output_type": "stream",
     "text": [
      "You're using a DebertaV2TokenizerFast tokenizer. Please note that with a fast tokenizer, using the `__call__` method is faster than using a method to encode the text followed by a call to the `pad` method to get a padded encoding.\n"
     ]
    },
    {
     "name": "stdout",
     "output_type": "stream",
     "text": [
      "              precision    recall  f1-score   support\n",
      "\n",
      "        Left       0.25      0.04      0.07        26\n",
      "       Right       0.37      0.57      0.45        23\n",
      "     Liberal       0.24      0.48      0.32        21\n",
      "Conservative       0.21      0.53      0.31        17\n",
      "    Credible       0.78      0.58      0.67        53\n",
      "  Unreliable       0.15      0.46      0.23        13\n",
      "\n",
      "   micro avg       0.35      0.46      0.40       153\n",
      "   macro avg       0.33      0.44      0.34       153\n",
      "weighted avg       0.44      0.46      0.41       153\n",
      " samples avg       0.35      0.43      0.37       153\n",
      "\n",
      "Exact MR: 0.0, f1: 0.36972281449893385, hamming loss: 0.5323383084577115\n"
     ]
    }
   ],
   "source": [
    "sims = []\n",
    "_, test_dataloader, desc_dataloader = get_dataloaders(32)\n",
    "dataframe = df_test\n",
    "device = torch.device('cuda:0' if torch.cuda.is_available() else 'cpu')\n",
    "\n",
    "model.to(device)\n",
    "model.eval()\n",
    "with torch.no_grad():\n",
    "    for desc in desc_dataloader:\n",
    "            samples = model(input_ids=desc['input_ids'].to(device), \n",
    "                            attention_mask=desc['attention_mask'].to(device)).last_hidden_state\n",
    "            samples = torch.mean(samples, dim=1)\n",
    "\n",
    "    for batch in test_dataloader:\n",
    "        embeddings = model(input_ids=batch['input_ids'].to(device),\n",
    "                           attention_mask=batch['attention_mask'].to(device)).last_hidden_state\n",
    "        embeddings = torch.mean(embeddings, dim=1)\n",
    "        concat_embeds = torch.cat((embeddings, samples), dim=0)\n",
    "        norm_embeds = F.normalize(concat_embeds, p=2, dim=1)\n",
    "        embeddings, samples = norm_embeds[:embeddings.size(0)], norm_embeds[embeddings.size(0):]\n",
    "        similarities = F.pairwise_distance(embeddings.unsqueeze(1), samples.unsqueeze(0))\n",
    "        sims.append(similarities.cpu().numpy())\n",
    "\n",
    "result_array = np.concatenate(sims, axis=0)\n",
    "df_preds = dataframe\n",
    "df_preds['predictions'] = result_array.tolist()\n",
    "df_final = dataframe.drop(columns=['text'])\n",
    "df_final = df_final.drop_duplicates(subset=['source'])\n",
    "website_labels = df_final.set_index('source')['labels'].to_dict()\n",
    "k = 3 # we take top 3 closest values as we have only 6 labels\n",
    "\n",
    "label_dict = {source: [] for source in df_preds['source']}\n",
    "for index, row in df_preds.iterrows():\n",
    "    label_dict[row['source']].append(row['predictions'])\n",
    "for key in label_dict:\n",
    "    label_dict[key] = np.array([np.mean(values) for values in zip(*label_dict[key])])\n",
    "\n",
    "    top_k_indices = np.argsort(label_dict[key])[:k]\n",
    "    mask = np.zeros_like(label_dict[key])\n",
    "    mask[top_k_indices] = 1\n",
    "    result = mask\n",
    "    label_dict[key] = result\n",
    "y_true = list(website_labels.values())\n",
    "y_pred = list(label_dict.values())\n",
    "print(sklearn.metrics.classification_report(y_true, y_pred, target_names=list(id2label.values())))\n",
    "f1score = sklearn.metrics.f1_score(y_true, y_pred, average='samples')\n",
    "exactmr = sklearn.metrics.accuracy_score(y_true, y_pred, normalize=True, sample_weight=None)\n",
    "hamming = sklearn.metrics.hamming_loss(y_true, y_pred)\n",
    "print(f'Exact MR: {exactmr}, f1: {f1score}, hamming loss: {hamming}')"
   ]
  },
  {
   "cell_type": "code",
   "execution_count": 31,
   "id": "b8806ae4",
   "metadata": {
    "execution": {
     "iopub.execute_input": "2023-11-22T12:07:15.563040Z",
     "iopub.status.busy": "2023-11-22T12:07:15.562663Z",
     "iopub.status.idle": "2023-11-22T12:07:15.892168Z",
     "shell.execute_reply": "2023-11-22T12:07:15.891341Z"
    },
    "papermill": {
     "duration": 0.494669,
     "end_time": "2023-11-22T12:07:15.894325",
     "exception": false,
     "start_time": "2023-11-22T12:07:15.399656",
     "status": "completed"
    },
    "tags": []
   },
   "outputs": [],
   "source": [
    "import gc\n",
    "gc.collect()\n",
    "torch.cuda.empty_cache()"
   ]
  }
 ],
 "metadata": {
  "kaggle": {
   "accelerator": "nvidiaTeslaT4",
   "dataSources": [
    {
     "datasetId": 3918177,
     "sourceId": 6810903,
     "sourceType": "datasetVersion"
    }
   ],
   "dockerImageVersionId": 30579,
   "isGpuEnabled": true,
   "isInternetEnabled": true,
   "language": "python",
   "sourceType": "notebook"
  },
  "kernelspec": {
   "display_name": "Python 3",
   "language": "python",
   "name": "python3"
  },
  "language_info": {
   "codemirror_mode": {
    "name": "ipython",
    "version": 3
   },
   "file_extension": ".py",
   "mimetype": "text/x-python",
   "name": "python",
   "nbconvert_exporter": "python",
   "pygments_lexer": "ipython3",
   "version": "3.10.12"
  },
  "papermill": {
   "default_parameters": {},
   "duration": 2326.853743,
   "end_time": "2023-11-22T12:07:19.682996",
   "environment_variables": {},
   "exception": null,
   "input_path": "__notebook__.ipynb",
   "output_path": "__notebook__.ipynb",
   "parameters": {},
   "start_time": "2023-11-22T11:28:32.829253",
   "version": "2.4.0"
  },
  "widgets": {
   "application/vnd.jupyter.widget-state+json": {
    "state": {
     "029f522f01ef47029edcb2f53c6f3ef1": {
      "model_module": "@jupyter-widgets/base",
      "model_module_version": "1.2.0",
      "model_name": "LayoutModel",
      "state": {
       "_model_module": "@jupyter-widgets/base",
       "_model_module_version": "1.2.0",
       "_model_name": "LayoutModel",
       "_view_count": null,
       "_view_module": "@jupyter-widgets/base",
       "_view_module_version": "1.2.0",
       "_view_name": "LayoutView",
       "align_content": null,
       "align_items": null,
       "align_self": null,
       "border": null,
       "bottom": null,
       "display": null,
       "flex": null,
       "flex_flow": null,
       "grid_area": null,
       "grid_auto_columns": null,
       "grid_auto_flow": null,
       "grid_auto_rows": null,
       "grid_column": null,
       "grid_gap": null,
       "grid_row": null,
       "grid_template_areas": null,
       "grid_template_columns": null,
       "grid_template_rows": null,
       "height": null,
       "justify_content": null,
       "justify_items": null,
       "left": null,
       "margin": null,
       "max_height": null,
       "max_width": null,
       "min_height": null,
       "min_width": null,
       "object_fit": null,
       "object_position": null,
       "order": null,
       "overflow": null,
       "overflow_x": null,
       "overflow_y": null,
       "padding": null,
       "right": null,
       "top": null,
       "visibility": null,
       "width": null
      }
     },
     "04a1c32f95f74103b95a8ddd65576a69": {
      "model_module": "@jupyter-widgets/base",
      "model_module_version": "1.2.0",
      "model_name": "LayoutModel",
      "state": {
       "_model_module": "@jupyter-widgets/base",
       "_model_module_version": "1.2.0",
       "_model_name": "LayoutModel",
       "_view_count": null,
       "_view_module": "@jupyter-widgets/base",
       "_view_module_version": "1.2.0",
       "_view_name": "LayoutView",
       "align_content": null,
       "align_items": null,
       "align_self": null,
       "border": null,
       "bottom": null,
       "display": null,
       "flex": null,
       "flex_flow": null,
       "grid_area": null,
       "grid_auto_columns": null,
       "grid_auto_flow": null,
       "grid_auto_rows": null,
       "grid_column": null,
       "grid_gap": null,
       "grid_row": null,
       "grid_template_areas": null,
       "grid_template_columns": null,
       "grid_template_rows": null,
       "height": null,
       "justify_content": null,
       "justify_items": null,
       "left": null,
       "margin": null,
       "max_height": null,
       "max_width": null,
       "min_height": null,
       "min_width": null,
       "object_fit": null,
       "object_position": null,
       "order": null,
       "overflow": null,
       "overflow_x": null,
       "overflow_y": null,
       "padding": null,
       "right": null,
       "top": null,
       "visibility": null,
       "width": null
      }
     },
     "04e08069de7442f48495ad66d6a39503": {
      "model_module": "@jupyter-widgets/controls",
      "model_module_version": "1.5.0",
      "model_name": "DescriptionStyleModel",
      "state": {
       "_model_module": "@jupyter-widgets/controls",
       "_model_module_version": "1.5.0",
       "_model_name": "DescriptionStyleModel",
       "_view_count": null,
       "_view_module": "@jupyter-widgets/base",
       "_view_module_version": "1.2.0",
       "_view_name": "StyleView",
       "description_width": ""
      }
     },
     "068e6cf237874670a46f71eeab755c96": {
      "model_module": "@jupyter-widgets/controls",
      "model_module_version": "1.5.0",
      "model_name": "DescriptionStyleModel",
      "state": {
       "_model_module": "@jupyter-widgets/controls",
       "_model_module_version": "1.5.0",
       "_model_name": "DescriptionStyleModel",
       "_view_count": null,
       "_view_module": "@jupyter-widgets/base",
       "_view_module_version": "1.2.0",
       "_view_name": "StyleView",
       "description_width": ""
      }
     },
     "13f01864fd804d04b11b40b12665e596": {
      "model_module": "@jupyter-widgets/controls",
      "model_module_version": "1.5.0",
      "model_name": "DescriptionStyleModel",
      "state": {
       "_model_module": "@jupyter-widgets/controls",
       "_model_module_version": "1.5.0",
       "_model_name": "DescriptionStyleModel",
       "_view_count": null,
       "_view_module": "@jupyter-widgets/base",
       "_view_module_version": "1.2.0",
       "_view_name": "StyleView",
       "description_width": ""
      }
     },
     "1a5411b0c79f4f7fb1e48c7fa6bf2c92": {
      "model_module": "@jupyter-widgets/controls",
      "model_module_version": "1.5.0",
      "model_name": "DescriptionStyleModel",
      "state": {
       "_model_module": "@jupyter-widgets/controls",
       "_model_module_version": "1.5.0",
       "_model_name": "DescriptionStyleModel",
       "_view_count": null,
       "_view_module": "@jupyter-widgets/base",
       "_view_module_version": "1.2.0",
       "_view_name": "StyleView",
       "description_width": ""
      }
     },
     "1b2336921b30430585856ca1019589de": {
      "model_module": "@jupyter-widgets/base",
      "model_module_version": "1.2.0",
      "model_name": "LayoutModel",
      "state": {
       "_model_module": "@jupyter-widgets/base",
       "_model_module_version": "1.2.0",
       "_model_name": "LayoutModel",
       "_view_count": null,
       "_view_module": "@jupyter-widgets/base",
       "_view_module_version": "1.2.0",
       "_view_name": "LayoutView",
       "align_content": null,
       "align_items": null,
       "align_self": null,
       "border": null,
       "bottom": null,
       "display": null,
       "flex": null,
       "flex_flow": null,
       "grid_area": null,
       "grid_auto_columns": null,
       "grid_auto_flow": null,
       "grid_auto_rows": null,
       "grid_column": null,
       "grid_gap": null,
       "grid_row": null,
       "grid_template_areas": null,
       "grid_template_columns": null,
       "grid_template_rows": null,
       "height": null,
       "justify_content": null,
       "justify_items": null,
       "left": null,
       "margin": null,
       "max_height": null,
       "max_width": null,
       "min_height": null,
       "min_width": null,
       "object_fit": null,
       "object_position": null,
       "order": null,
       "overflow": null,
       "overflow_x": null,
       "overflow_y": null,
       "padding": null,
       "right": null,
       "top": null,
       "visibility": null,
       "width": null
      }
     },
     "1c0d0fdc69a14510838cd2e75d8be225": {
      "model_module": "@jupyter-widgets/controls",
      "model_module_version": "1.5.0",
      "model_name": "HTMLModel",
      "state": {
       "_dom_classes": [],
       "_model_module": "@jupyter-widgets/controls",
       "_model_module_version": "1.5.0",
       "_model_name": "HTMLModel",
       "_view_count": null,
       "_view_module": "@jupyter-widgets/controls",
       "_view_module_version": "1.5.0",
       "_view_name": "HTMLView",
       "description": "",
       "description_tooltip": null,
       "layout": "IPY_MODEL_04a1c32f95f74103b95a8ddd65576a69",
       "placeholder": "​",
       "style": "IPY_MODEL_068e6cf237874670a46f71eeab755c96",
       "value": "Map: 100%"
      }
     },
     "1c0df20d26d54ce9b6ed38dd97ce89e9": {
      "model_module": "@jupyter-widgets/base",
      "model_module_version": "1.2.0",
      "model_name": "LayoutModel",
      "state": {
       "_model_module": "@jupyter-widgets/base",
       "_model_module_version": "1.2.0",
       "_model_name": "LayoutModel",
       "_view_count": null,
       "_view_module": "@jupyter-widgets/base",
       "_view_module_version": "1.2.0",
       "_view_name": "LayoutView",
       "align_content": null,
       "align_items": null,
       "align_self": null,
       "border": null,
       "bottom": null,
       "display": null,
       "flex": null,
       "flex_flow": null,
       "grid_area": null,
       "grid_auto_columns": null,
       "grid_auto_flow": null,
       "grid_auto_rows": null,
       "grid_column": null,
       "grid_gap": null,
       "grid_row": null,
       "grid_template_areas": null,
       "grid_template_columns": null,
       "grid_template_rows": null,
       "height": null,
       "justify_content": null,
       "justify_items": null,
       "left": null,
       "margin": null,
       "max_height": null,
       "max_width": null,
       "min_height": null,
       "min_width": null,
       "object_fit": null,
       "object_position": null,
       "order": null,
       "overflow": null,
       "overflow_x": null,
       "overflow_y": null,
       "padding": null,
       "right": null,
       "top": null,
       "visibility": null,
       "width": null
      }
     },
     "1ea9bb2d800e4617b924d09ec8349489": {
      "model_module": "@jupyter-widgets/base",
      "model_module_version": "1.2.0",
      "model_name": "LayoutModel",
      "state": {
       "_model_module": "@jupyter-widgets/base",
       "_model_module_version": "1.2.0",
       "_model_name": "LayoutModel",
       "_view_count": null,
       "_view_module": "@jupyter-widgets/base",
       "_view_module_version": "1.2.0",
       "_view_name": "LayoutView",
       "align_content": null,
       "align_items": null,
       "align_self": null,
       "border": null,
       "bottom": null,
       "display": null,
       "flex": null,
       "flex_flow": null,
       "grid_area": null,
       "grid_auto_columns": null,
       "grid_auto_flow": null,
       "grid_auto_rows": null,
       "grid_column": null,
       "grid_gap": null,
       "grid_row": null,
       "grid_template_areas": null,
       "grid_template_columns": null,
       "grid_template_rows": null,
       "height": null,
       "justify_content": null,
       "justify_items": null,
       "left": null,
       "margin": null,
       "max_height": null,
       "max_width": null,
       "min_height": null,
       "min_width": null,
       "object_fit": null,
       "object_position": null,
       "order": null,
       "overflow": null,
       "overflow_x": null,
       "overflow_y": null,
       "padding": null,
       "right": null,
       "top": null,
       "visibility": null,
       "width": null
      }
     },
     "200097fa4bd14d5c8c0e445286b13faf": {
      "model_module": "@jupyter-widgets/controls",
      "model_module_version": "1.5.0",
      "model_name": "HTMLModel",
      "state": {
       "_dom_classes": [],
       "_model_module": "@jupyter-widgets/controls",
       "_model_module_version": "1.5.0",
       "_model_name": "HTMLModel",
       "_view_count": null,
       "_view_module": "@jupyter-widgets/controls",
       "_view_module_version": "1.5.0",
       "_view_name": "HTMLView",
       "description": "",
       "description_tooltip": null,
       "layout": "IPY_MODEL_1b2336921b30430585856ca1019589de",
       "placeholder": "​",
       "style": "IPY_MODEL_86d5f51b5da041cfb34737de31a0cce8",
       "value": "Map: 100%"
      }
     },
     "2468193dd08941bb97780942cc7e6ef3": {
      "model_module": "@jupyter-widgets/controls",
      "model_module_version": "1.5.0",
      "model_name": "FloatProgressModel",
      "state": {
       "_dom_classes": [],
       "_model_module": "@jupyter-widgets/controls",
       "_model_module_version": "1.5.0",
       "_model_name": "FloatProgressModel",
       "_view_count": null,
       "_view_module": "@jupyter-widgets/controls",
       "_view_module_version": "1.5.0",
       "_view_name": "ProgressView",
       "bar_style": "success",
       "description": "",
       "description_tooltip": null,
       "layout": "IPY_MODEL_b906ee11470b440198a912d01188d984",
       "max": 6068,
       "min": 0,
       "orientation": "horizontal",
       "style": "IPY_MODEL_7b63f6602ca64aada2e6866712f2993b",
       "value": 6068
      }
     },
     "2a9899b06fd1427a9f9afd39f3965313": {
      "model_module": "@jupyter-widgets/controls",
      "model_module_version": "1.5.0",
      "model_name": "DescriptionStyleModel",
      "state": {
       "_model_module": "@jupyter-widgets/controls",
       "_model_module_version": "1.5.0",
       "_model_name": "DescriptionStyleModel",
       "_view_count": null,
       "_view_module": "@jupyter-widgets/base",
       "_view_module_version": "1.2.0",
       "_view_name": "StyleView",
       "description_width": ""
      }
     },
     "3d468f1c3d81410cb5d8c0c9ab599600": {
      "model_module": "@jupyter-widgets/controls",
      "model_module_version": "1.5.0",
      "model_name": "HTMLModel",
      "state": {
       "_dom_classes": [],
       "_model_module": "@jupyter-widgets/controls",
       "_model_module_version": "1.5.0",
       "_model_name": "HTMLModel",
       "_view_count": null,
       "_view_module": "@jupyter-widgets/controls",
       "_view_module_version": "1.5.0",
       "_view_name": "HTMLView",
       "description": "",
       "description_tooltip": null,
       "layout": "IPY_MODEL_9ba72907b73a487192107585ca419e75",
       "placeholder": "​",
       "style": "IPY_MODEL_e29b3ca12d1a4da99ac9c2eaef790c2b",
       "value": " 574/574 [00:01&lt;00:00, 373.63 examples/s]"
      }
     },
     "3e63ef44218c4d51a484731b56fb8f0d": {
      "model_module": "@jupyter-widgets/controls",
      "model_module_version": "1.5.0",
      "model_name": "HTMLModel",
      "state": {
       "_dom_classes": [],
       "_model_module": "@jupyter-widgets/controls",
       "_model_module_version": "1.5.0",
       "_model_name": "HTMLModel",
       "_view_count": null,
       "_view_module": "@jupyter-widgets/controls",
       "_view_module_version": "1.5.0",
       "_view_name": "HTMLView",
       "description": "",
       "description_tooltip": null,
       "layout": "IPY_MODEL_6bc2089e19d0433caf556d29a4aa71c0",
       "placeholder": "​",
       "style": "IPY_MODEL_f9dc32ebb8b34b83bc636aacd8d9914a",
       "value": "spm.model: 100%"
      }
     },
     "43091326672848878694d6e6073e82e4": {
      "model_module": "@jupyter-widgets/controls",
      "model_module_version": "1.5.0",
      "model_name": "FloatProgressModel",
      "state": {
       "_dom_classes": [],
       "_model_module": "@jupyter-widgets/controls",
       "_model_module_version": "1.5.0",
       "_model_name": "FloatProgressModel",
       "_view_count": null,
       "_view_module": "@jupyter-widgets/controls",
       "_view_module_version": "1.5.0",
       "_view_name": "ProgressView",
       "bar_style": "success",
       "description": "",
       "description_tooltip": null,
       "layout": "IPY_MODEL_840b8ff73ec9451388c166914331be27",
       "max": 2464616,
       "min": 0,
       "orientation": "horizontal",
       "style": "IPY_MODEL_eb26df6ccf214a05b234f7833d37df99",
       "value": 2464616
      }
     },
     "4682fc6cf4ff455fba64848787c9ece0": {
      "model_module": "@jupyter-widgets/base",
      "model_module_version": "1.2.0",
      "model_name": "LayoutModel",
      "state": {
       "_model_module": "@jupyter-widgets/base",
       "_model_module_version": "1.2.0",
       "_model_name": "LayoutModel",
       "_view_count": null,
       "_view_module": "@jupyter-widgets/base",
       "_view_module_version": "1.2.0",
       "_view_name": "LayoutView",
       "align_content": null,
       "align_items": null,
       "align_self": null,
       "border": null,
       "bottom": null,
       "display": null,
       "flex": null,
       "flex_flow": null,
       "grid_area": null,
       "grid_auto_columns": null,
       "grid_auto_flow": null,
       "grid_auto_rows": null,
       "grid_column": null,
       "grid_gap": null,
       "grid_row": null,
       "grid_template_areas": null,
       "grid_template_columns": null,
       "grid_template_rows": null,
       "height": null,
       "justify_content": null,
       "justify_items": null,
       "left": null,
       "margin": null,
       "max_height": null,
       "max_width": null,
       "min_height": null,
       "min_width": null,
       "object_fit": null,
       "object_position": null,
       "order": null,
       "overflow": null,
       "overflow_x": null,
       "overflow_y": null,
       "padding": null,
       "right": null,
       "top": null,
       "visibility": null,
       "width": null
      }
     },
     "4967e07f6fd84462b7e8969f0f780a90": {
      "model_module": "@jupyter-widgets/base",
      "model_module_version": "1.2.0",
      "model_name": "LayoutModel",
      "state": {
       "_model_module": "@jupyter-widgets/base",
       "_model_module_version": "1.2.0",
       "_model_name": "LayoutModel",
       "_view_count": null,
       "_view_module": "@jupyter-widgets/base",
       "_view_module_version": "1.2.0",
       "_view_name": "LayoutView",
       "align_content": null,
       "align_items": null,
       "align_self": null,
       "border": null,
       "bottom": null,
       "display": null,
       "flex": null,
       "flex_flow": null,
       "grid_area": null,
       "grid_auto_columns": null,
       "grid_auto_flow": null,
       "grid_auto_rows": null,
       "grid_column": null,
       "grid_gap": null,
       "grid_row": null,
       "grid_template_areas": null,
       "grid_template_columns": null,
       "grid_template_rows": null,
       "height": null,
       "justify_content": null,
       "justify_items": null,
       "left": null,
       "margin": null,
       "max_height": null,
       "max_width": null,
       "min_height": null,
       "min_width": null,
       "object_fit": null,
       "object_position": null,
       "order": null,
       "overflow": null,
       "overflow_x": null,
       "overflow_y": null,
       "padding": null,
       "right": null,
       "top": null,
       "visibility": null,
       "width": null
      }
     },
     "4a3f4adfebf94b59b4b2a48d17b88555": {
      "model_module": "@jupyter-widgets/controls",
      "model_module_version": "1.5.0",
      "model_name": "HTMLModel",
      "state": {
       "_dom_classes": [],
       "_model_module": "@jupyter-widgets/controls",
       "_model_module_version": "1.5.0",
       "_model_name": "HTMLModel",
       "_view_count": null,
       "_view_module": "@jupyter-widgets/controls",
       "_view_module_version": "1.5.0",
       "_view_name": "HTMLView",
       "description": "",
       "description_tooltip": null,
       "layout": "IPY_MODEL_619b71daaa634965abe52476391d5a70",
       "placeholder": "​",
       "style": "IPY_MODEL_c20e232952264cdc8be85af372e30a56",
       "value": "pytorch_model.bin: 100%"
      }
     },
     "4ef46e78eb0b4a339af6e8a7578c866b": {
      "model_module": "@jupyter-widgets/controls",
      "model_module_version": "1.5.0",
      "model_name": "HBoxModel",
      "state": {
       "_dom_classes": [],
       "_model_module": "@jupyter-widgets/controls",
       "_model_module_version": "1.5.0",
       "_model_name": "HBoxModel",
       "_view_count": null,
       "_view_module": "@jupyter-widgets/controls",
       "_view_module_version": "1.5.0",
       "_view_name": "HBoxView",
       "box_style": "",
       "children": [
        "IPY_MODEL_c1f9ff09b39c483d82eebfa26b198f57",
        "IPY_MODEL_f34479fa030d4cd7b0fac16a3ef0da09",
        "IPY_MODEL_a6c0d70d0dfd431aa46c22128a403d71"
       ],
       "layout": "IPY_MODEL_5c16af5dc42340b0883424575c1acd45"
      }
     },
     "4f54d947a17b46518fba52145f4d3f6e": {
      "model_module": "@jupyter-widgets/base",
      "model_module_version": "1.2.0",
      "model_name": "LayoutModel",
      "state": {
       "_model_module": "@jupyter-widgets/base",
       "_model_module_version": "1.2.0",
       "_model_name": "LayoutModel",
       "_view_count": null,
       "_view_module": "@jupyter-widgets/base",
       "_view_module_version": "1.2.0",
       "_view_name": "LayoutView",
       "align_content": null,
       "align_items": null,
       "align_self": null,
       "border": null,
       "bottom": null,
       "display": null,
       "flex": null,
       "flex_flow": null,
       "grid_area": null,
       "grid_auto_columns": null,
       "grid_auto_flow": null,
       "grid_auto_rows": null,
       "grid_column": null,
       "grid_gap": null,
       "grid_row": null,
       "grid_template_areas": null,
       "grid_template_columns": null,
       "grid_template_rows": null,
       "height": null,
       "justify_content": null,
       "justify_items": null,
       "left": null,
       "margin": null,
       "max_height": null,
       "max_width": null,
       "min_height": null,
       "min_width": null,
       "object_fit": null,
       "object_position": null,
       "order": null,
       "overflow": null,
       "overflow_x": null,
       "overflow_y": null,
       "padding": null,
       "right": null,
       "top": null,
       "visibility": null,
       "width": null
      }
     },
     "50ea563c14824eac8893a7276c387e00": {
      "model_module": "@jupyter-widgets/controls",
      "model_module_version": "1.5.0",
      "model_name": "HBoxModel",
      "state": {
       "_dom_classes": [],
       "_model_module": "@jupyter-widgets/controls",
       "_model_module_version": "1.5.0",
       "_model_name": "HBoxModel",
       "_view_count": null,
       "_view_module": "@jupyter-widgets/controls",
       "_view_module_version": "1.5.0",
       "_view_name": "HBoxView",
       "box_style": "",
       "children": [
        "IPY_MODEL_4a3f4adfebf94b59b4b2a48d17b88555",
        "IPY_MODEL_c4aeee31b8e243c68c515d110a5858d7",
        "IPY_MODEL_c8593c664df941bbb45fea7469881402"
       ],
       "layout": "IPY_MODEL_73ffeb9c7db8442d832207a2b10ff9a7"
      }
     },
     "5c16af5dc42340b0883424575c1acd45": {
      "model_module": "@jupyter-widgets/base",
      "model_module_version": "1.2.0",
      "model_name": "LayoutModel",
      "state": {
       "_model_module": "@jupyter-widgets/base",
       "_model_module_version": "1.2.0",
       "_model_name": "LayoutModel",
       "_view_count": null,
       "_view_module": "@jupyter-widgets/base",
       "_view_module_version": "1.2.0",
       "_view_name": "LayoutView",
       "align_content": null,
       "align_items": null,
       "align_self": null,
       "border": null,
       "bottom": null,
       "display": null,
       "flex": null,
       "flex_flow": null,
       "grid_area": null,
       "grid_auto_columns": null,
       "grid_auto_flow": null,
       "grid_auto_rows": null,
       "grid_column": null,
       "grid_gap": null,
       "grid_row": null,
       "grid_template_areas": null,
       "grid_template_columns": null,
       "grid_template_rows": null,
       "height": null,
       "justify_content": null,
       "justify_items": null,
       "left": null,
       "margin": null,
       "max_height": null,
       "max_width": null,
       "min_height": null,
       "min_width": null,
       "object_fit": null,
       "object_position": null,
       "order": null,
       "overflow": null,
       "overflow_x": null,
       "overflow_y": null,
       "padding": null,
       "right": null,
       "top": null,
       "visibility": null,
       "width": null
      }
     },
     "5cf19258042a4609877af5bc2309a8d5": {
      "model_module": "@jupyter-widgets/controls",
      "model_module_version": "1.5.0",
      "model_name": "HTMLModel",
      "state": {
       "_dom_classes": [],
       "_model_module": "@jupyter-widgets/controls",
       "_model_module_version": "1.5.0",
       "_model_name": "HTMLModel",
       "_view_count": null,
       "_view_module": "@jupyter-widgets/controls",
       "_view_module_version": "1.5.0",
       "_view_name": "HTMLView",
       "description": "",
       "description_tooltip": null,
       "layout": "IPY_MODEL_81e3937d27e94afdad49dd18e247c168",
       "placeholder": "​",
       "style": "IPY_MODEL_2a9899b06fd1427a9f9afd39f3965313",
       "value": " 6068/6068 [00:16&lt;00:00, 346.90 examples/s]"
      }
     },
     "619b71daaa634965abe52476391d5a70": {
      "model_module": "@jupyter-widgets/base",
      "model_module_version": "1.2.0",
      "model_name": "LayoutModel",
      "state": {
       "_model_module": "@jupyter-widgets/base",
       "_model_module_version": "1.2.0",
       "_model_name": "LayoutModel",
       "_view_count": null,
       "_view_module": "@jupyter-widgets/base",
       "_view_module_version": "1.2.0",
       "_view_name": "LayoutView",
       "align_content": null,
       "align_items": null,
       "align_self": null,
       "border": null,
       "bottom": null,
       "display": null,
       "flex": null,
       "flex_flow": null,
       "grid_area": null,
       "grid_auto_columns": null,
       "grid_auto_flow": null,
       "grid_auto_rows": null,
       "grid_column": null,
       "grid_gap": null,
       "grid_row": null,
       "grid_template_areas": null,
       "grid_template_columns": null,
       "grid_template_rows": null,
       "height": null,
       "justify_content": null,
       "justify_items": null,
       "left": null,
       "margin": null,
       "max_height": null,
       "max_width": null,
       "min_height": null,
       "min_width": null,
       "object_fit": null,
       "object_position": null,
       "order": null,
       "overflow": null,
       "overflow_x": null,
       "overflow_y": null,
       "padding": null,
       "right": null,
       "top": null,
       "visibility": null,
       "width": null
      }
     },
     "659eddf81acc4baa82a74cf8814822c4": {
      "model_module": "@jupyter-widgets/controls",
      "model_module_version": "1.5.0",
      "model_name": "HTMLModel",
      "state": {
       "_dom_classes": [],
       "_model_module": "@jupyter-widgets/controls",
       "_model_module_version": "1.5.0",
       "_model_name": "HTMLModel",
       "_view_count": null,
       "_view_module": "@jupyter-widgets/controls",
       "_view_module_version": "1.5.0",
       "_view_name": "HTMLView",
       "description": "",
       "description_tooltip": null,
       "layout": "IPY_MODEL_f67db740a8a7478a919864f7f956be4d",
       "placeholder": "​",
       "style": "IPY_MODEL_1a5411b0c79f4f7fb1e48c7fa6bf2c92",
       "value": " 578/578 [00:00&lt;00:00, 50.7kB/s]"
      }
     },
     "6bc2089e19d0433caf556d29a4aa71c0": {
      "model_module": "@jupyter-widgets/base",
      "model_module_version": "1.2.0",
      "model_name": "LayoutModel",
      "state": {
       "_model_module": "@jupyter-widgets/base",
       "_model_module_version": "1.2.0",
       "_model_name": "LayoutModel",
       "_view_count": null,
       "_view_module": "@jupyter-widgets/base",
       "_view_module_version": "1.2.0",
       "_view_name": "LayoutView",
       "align_content": null,
       "align_items": null,
       "align_self": null,
       "border": null,
       "bottom": null,
       "display": null,
       "flex": null,
       "flex_flow": null,
       "grid_area": null,
       "grid_auto_columns": null,
       "grid_auto_flow": null,
       "grid_auto_rows": null,
       "grid_column": null,
       "grid_gap": null,
       "grid_row": null,
       "grid_template_areas": null,
       "grid_template_columns": null,
       "grid_template_rows": null,
       "height": null,
       "justify_content": null,
       "justify_items": null,
       "left": null,
       "margin": null,
       "max_height": null,
       "max_width": null,
       "min_height": null,
       "min_width": null,
       "object_fit": null,
       "object_position": null,
       "order": null,
       "overflow": null,
       "overflow_x": null,
       "overflow_y": null,
       "padding": null,
       "right": null,
       "top": null,
       "visibility": null,
       "width": null
      }
     },
     "6cf04e286bc145c983b445a013f3d887": {
      "model_module": "@jupyter-widgets/controls",
      "model_module_version": "1.5.0",
      "model_name": "DescriptionStyleModel",
      "state": {
       "_model_module": "@jupyter-widgets/controls",
       "_model_module_version": "1.5.0",
       "_model_name": "DescriptionStyleModel",
       "_view_count": null,
       "_view_module": "@jupyter-widgets/base",
       "_view_module_version": "1.2.0",
       "_view_name": "StyleView",
       "description_width": ""
      }
     },
     "73ffeb9c7db8442d832207a2b10ff9a7": {
      "model_module": "@jupyter-widgets/base",
      "model_module_version": "1.2.0",
      "model_name": "LayoutModel",
      "state": {
       "_model_module": "@jupyter-widgets/base",
       "_model_module_version": "1.2.0",
       "_model_name": "LayoutModel",
       "_view_count": null,
       "_view_module": "@jupyter-widgets/base",
       "_view_module_version": "1.2.0",
       "_view_name": "LayoutView",
       "align_content": null,
       "align_items": null,
       "align_self": null,
       "border": null,
       "bottom": null,
       "display": null,
       "flex": null,
       "flex_flow": null,
       "grid_area": null,
       "grid_auto_columns": null,
       "grid_auto_flow": null,
       "grid_auto_rows": null,
       "grid_column": null,
       "grid_gap": null,
       "grid_row": null,
       "grid_template_areas": null,
       "grid_template_columns": null,
       "grid_template_rows": null,
       "height": null,
       "justify_content": null,
       "justify_items": null,
       "left": null,
       "margin": null,
       "max_height": null,
       "max_width": null,
       "min_height": null,
       "min_width": null,
       "object_fit": null,
       "object_position": null,
       "order": null,
       "overflow": null,
       "overflow_x": null,
       "overflow_y": null,
       "padding": null,
       "right": null,
       "top": null,
       "visibility": null,
       "width": null
      }
     },
     "74aab112c5264774bb736e5c03753708": {
      "model_module": "@jupyter-widgets/controls",
      "model_module_version": "1.5.0",
      "model_name": "HBoxModel",
      "state": {
       "_dom_classes": [],
       "_model_module": "@jupyter-widgets/controls",
       "_model_module_version": "1.5.0",
       "_model_name": "HBoxModel",
       "_view_count": null,
       "_view_module": "@jupyter-widgets/controls",
       "_view_module_version": "1.5.0",
       "_view_name": "HBoxView",
       "box_style": "",
       "children": [
        "IPY_MODEL_200097fa4bd14d5c8c0e445286b13faf",
        "IPY_MODEL_2468193dd08941bb97780942cc7e6ef3",
        "IPY_MODEL_5cf19258042a4609877af5bc2309a8d5"
       ],
       "layout": "IPY_MODEL_029f522f01ef47029edcb2f53c6f3ef1"
      }
     },
     "7b63f6602ca64aada2e6866712f2993b": {
      "model_module": "@jupyter-widgets/controls",
      "model_module_version": "1.5.0",
      "model_name": "ProgressStyleModel",
      "state": {
       "_model_module": "@jupyter-widgets/controls",
       "_model_module_version": "1.5.0",
       "_model_name": "ProgressStyleModel",
       "_view_count": null,
       "_view_module": "@jupyter-widgets/base",
       "_view_module_version": "1.2.0",
       "_view_name": "StyleView",
       "bar_color": null,
       "description_width": ""
      }
     },
     "7eb240c3ebc5458aa49a1f7c467c5902": {
      "model_module": "@jupyter-widgets/controls",
      "model_module_version": "1.5.0",
      "model_name": "HTMLModel",
      "state": {
       "_dom_classes": [],
       "_model_module": "@jupyter-widgets/controls",
       "_model_module_version": "1.5.0",
       "_model_name": "HTMLModel",
       "_view_count": null,
       "_view_module": "@jupyter-widgets/controls",
       "_view_module_version": "1.5.0",
       "_view_name": "HTMLView",
       "description": "",
       "description_tooltip": null,
       "layout": "IPY_MODEL_f059f80605c649d2b9627399735e1e96",
       "placeholder": "​",
       "style": "IPY_MODEL_cee08afa9ad7495d89b129035ad0d22e",
       "value": " 2.46M/2.46M [00:00&lt;00:00, 12.8MB/s]"
      }
     },
     "81e3937d27e94afdad49dd18e247c168": {
      "model_module": "@jupyter-widgets/base",
      "model_module_version": "1.2.0",
      "model_name": "LayoutModel",
      "state": {
       "_model_module": "@jupyter-widgets/base",
       "_model_module_version": "1.2.0",
       "_model_name": "LayoutModel",
       "_view_count": null,
       "_view_module": "@jupyter-widgets/base",
       "_view_module_version": "1.2.0",
       "_view_name": "LayoutView",
       "align_content": null,
       "align_items": null,
       "align_self": null,
       "border": null,
       "bottom": null,
       "display": null,
       "flex": null,
       "flex_flow": null,
       "grid_area": null,
       "grid_auto_columns": null,
       "grid_auto_flow": null,
       "grid_auto_rows": null,
       "grid_column": null,
       "grid_gap": null,
       "grid_row": null,
       "grid_template_areas": null,
       "grid_template_columns": null,
       "grid_template_rows": null,
       "height": null,
       "justify_content": null,
       "justify_items": null,
       "left": null,
       "margin": null,
       "max_height": null,
       "max_width": null,
       "min_height": null,
       "min_width": null,
       "object_fit": null,
       "object_position": null,
       "order": null,
       "overflow": null,
       "overflow_x": null,
       "overflow_y": null,
       "padding": null,
       "right": null,
       "top": null,
       "visibility": null,
       "width": null
      }
     },
     "8309669f146742baa8568774d80cce3e": {
      "model_module": "@jupyter-widgets/base",
      "model_module_version": "1.2.0",
      "model_name": "LayoutModel",
      "state": {
       "_model_module": "@jupyter-widgets/base",
       "_model_module_version": "1.2.0",
       "_model_name": "LayoutModel",
       "_view_count": null,
       "_view_module": "@jupyter-widgets/base",
       "_view_module_version": "1.2.0",
       "_view_name": "LayoutView",
       "align_content": null,
       "align_items": null,
       "align_self": null,
       "border": null,
       "bottom": null,
       "display": null,
       "flex": null,
       "flex_flow": null,
       "grid_area": null,
       "grid_auto_columns": null,
       "grid_auto_flow": null,
       "grid_auto_rows": null,
       "grid_column": null,
       "grid_gap": null,
       "grid_row": null,
       "grid_template_areas": null,
       "grid_template_columns": null,
       "grid_template_rows": null,
       "height": null,
       "justify_content": null,
       "justify_items": null,
       "left": null,
       "margin": null,
       "max_height": null,
       "max_width": null,
       "min_height": null,
       "min_width": null,
       "object_fit": null,
       "object_position": null,
       "order": null,
       "overflow": null,
       "overflow_x": null,
       "overflow_y": null,
       "padding": null,
       "right": null,
       "top": null,
       "visibility": null,
       "width": null
      }
     },
     "8332023487a642168ecb2f17788d90a5": {
      "model_module": "@jupyter-widgets/base",
      "model_module_version": "1.2.0",
      "model_name": "LayoutModel",
      "state": {
       "_model_module": "@jupyter-widgets/base",
       "_model_module_version": "1.2.0",
       "_model_name": "LayoutModel",
       "_view_count": null,
       "_view_module": "@jupyter-widgets/base",
       "_view_module_version": "1.2.0",
       "_view_name": "LayoutView",
       "align_content": null,
       "align_items": null,
       "align_self": null,
       "border": null,
       "bottom": null,
       "display": null,
       "flex": null,
       "flex_flow": null,
       "grid_area": null,
       "grid_auto_columns": null,
       "grid_auto_flow": null,
       "grid_auto_rows": null,
       "grid_column": null,
       "grid_gap": null,
       "grid_row": null,
       "grid_template_areas": null,
       "grid_template_columns": null,
       "grid_template_rows": null,
       "height": null,
       "justify_content": null,
       "justify_items": null,
       "left": null,
       "margin": null,
       "max_height": null,
       "max_width": null,
       "min_height": null,
       "min_width": null,
       "object_fit": null,
       "object_position": null,
       "order": null,
       "overflow": null,
       "overflow_x": null,
       "overflow_y": null,
       "padding": null,
       "right": null,
       "top": null,
       "visibility": null,
       "width": null
      }
     },
     "840b8ff73ec9451388c166914331be27": {
      "model_module": "@jupyter-widgets/base",
      "model_module_version": "1.2.0",
      "model_name": "LayoutModel",
      "state": {
       "_model_module": "@jupyter-widgets/base",
       "_model_module_version": "1.2.0",
       "_model_name": "LayoutModel",
       "_view_count": null,
       "_view_module": "@jupyter-widgets/base",
       "_view_module_version": "1.2.0",
       "_view_name": "LayoutView",
       "align_content": null,
       "align_items": null,
       "align_self": null,
       "border": null,
       "bottom": null,
       "display": null,
       "flex": null,
       "flex_flow": null,
       "grid_area": null,
       "grid_auto_columns": null,
       "grid_auto_flow": null,
       "grid_auto_rows": null,
       "grid_column": null,
       "grid_gap": null,
       "grid_row": null,
       "grid_template_areas": null,
       "grid_template_columns": null,
       "grid_template_rows": null,
       "height": null,
       "justify_content": null,
       "justify_items": null,
       "left": null,
       "margin": null,
       "max_height": null,
       "max_width": null,
       "min_height": null,
       "min_width": null,
       "object_fit": null,
       "object_position": null,
       "order": null,
       "overflow": null,
       "overflow_x": null,
       "overflow_y": null,
       "padding": null,
       "right": null,
       "top": null,
       "visibility": null,
       "width": null
      }
     },
     "86d5f51b5da041cfb34737de31a0cce8": {
      "model_module": "@jupyter-widgets/controls",
      "model_module_version": "1.5.0",
      "model_name": "DescriptionStyleModel",
      "state": {
       "_model_module": "@jupyter-widgets/controls",
       "_model_module_version": "1.5.0",
       "_model_name": "DescriptionStyleModel",
       "_view_count": null,
       "_view_module": "@jupyter-widgets/base",
       "_view_module_version": "1.2.0",
       "_view_name": "StyleView",
       "description_width": ""
      }
     },
     "912ab05554ef4e7c87ebc847ad4c447b": {
      "model_module": "@jupyter-widgets/controls",
      "model_module_version": "1.5.0",
      "model_name": "ProgressStyleModel",
      "state": {
       "_model_module": "@jupyter-widgets/controls",
       "_model_module_version": "1.5.0",
       "_model_name": "ProgressStyleModel",
       "_view_count": null,
       "_view_module": "@jupyter-widgets/base",
       "_view_module_version": "1.2.0",
       "_view_name": "StyleView",
       "bar_color": null,
       "description_width": ""
      }
     },
     "934f366c2ef445ddb4ed0e9d5f36c379": {
      "model_module": "@jupyter-widgets/base",
      "model_module_version": "1.2.0",
      "model_name": "LayoutModel",
      "state": {
       "_model_module": "@jupyter-widgets/base",
       "_model_module_version": "1.2.0",
       "_model_name": "LayoutModel",
       "_view_count": null,
       "_view_module": "@jupyter-widgets/base",
       "_view_module_version": "1.2.0",
       "_view_name": "LayoutView",
       "align_content": null,
       "align_items": null,
       "align_self": null,
       "border": null,
       "bottom": null,
       "display": null,
       "flex": null,
       "flex_flow": null,
       "grid_area": null,
       "grid_auto_columns": null,
       "grid_auto_flow": null,
       "grid_auto_rows": null,
       "grid_column": null,
       "grid_gap": null,
       "grid_row": null,
       "grid_template_areas": null,
       "grid_template_columns": null,
       "grid_template_rows": null,
       "height": null,
       "justify_content": null,
       "justify_items": null,
       "left": null,
       "margin": null,
       "max_height": null,
       "max_width": null,
       "min_height": null,
       "min_width": null,
       "object_fit": null,
       "object_position": null,
       "order": null,
       "overflow": null,
       "overflow_x": null,
       "overflow_y": null,
       "padding": null,
       "right": null,
       "top": null,
       "visibility": null,
       "width": null
      }
     },
     "94afcc75a89142ea9bd2aa04e3aed272": {
      "model_module": "@jupyter-widgets/base",
      "model_module_version": "1.2.0",
      "model_name": "LayoutModel",
      "state": {
       "_model_module": "@jupyter-widgets/base",
       "_model_module_version": "1.2.0",
       "_model_name": "LayoutModel",
       "_view_count": null,
       "_view_module": "@jupyter-widgets/base",
       "_view_module_version": "1.2.0",
       "_view_name": "LayoutView",
       "align_content": null,
       "align_items": null,
       "align_self": null,
       "border": null,
       "bottom": null,
       "display": null,
       "flex": null,
       "flex_flow": null,
       "grid_area": null,
       "grid_auto_columns": null,
       "grid_auto_flow": null,
       "grid_auto_rows": null,
       "grid_column": null,
       "grid_gap": null,
       "grid_row": null,
       "grid_template_areas": null,
       "grid_template_columns": null,
       "grid_template_rows": null,
       "height": null,
       "justify_content": null,
       "justify_items": null,
       "left": null,
       "margin": null,
       "max_height": null,
       "max_width": null,
       "min_height": null,
       "min_width": null,
       "object_fit": null,
       "object_position": null,
       "order": null,
       "overflow": null,
       "overflow_x": null,
       "overflow_y": null,
       "padding": null,
       "right": null,
       "top": null,
       "visibility": null,
       "width": null
      }
     },
     "9ba72907b73a487192107585ca419e75": {
      "model_module": "@jupyter-widgets/base",
      "model_module_version": "1.2.0",
      "model_name": "LayoutModel",
      "state": {
       "_model_module": "@jupyter-widgets/base",
       "_model_module_version": "1.2.0",
       "_model_name": "LayoutModel",
       "_view_count": null,
       "_view_module": "@jupyter-widgets/base",
       "_view_module_version": "1.2.0",
       "_view_name": "LayoutView",
       "align_content": null,
       "align_items": null,
       "align_self": null,
       "border": null,
       "bottom": null,
       "display": null,
       "flex": null,
       "flex_flow": null,
       "grid_area": null,
       "grid_auto_columns": null,
       "grid_auto_flow": null,
       "grid_auto_rows": null,
       "grid_column": null,
       "grid_gap": null,
       "grid_row": null,
       "grid_template_areas": null,
       "grid_template_columns": null,
       "grid_template_rows": null,
       "height": null,
       "justify_content": null,
       "justify_items": null,
       "left": null,
       "margin": null,
       "max_height": null,
       "max_width": null,
       "min_height": null,
       "min_width": null,
       "object_fit": null,
       "object_position": null,
       "order": null,
       "overflow": null,
       "overflow_x": null,
       "overflow_y": null,
       "padding": null,
       "right": null,
       "top": null,
       "visibility": null,
       "width": null
      }
     },
     "a6c0d70d0dfd431aa46c22128a403d71": {
      "model_module": "@jupyter-widgets/controls",
      "model_module_version": "1.5.0",
      "model_name": "HTMLModel",
      "state": {
       "_dom_classes": [],
       "_model_module": "@jupyter-widgets/controls",
       "_model_module_version": "1.5.0",
       "_model_name": "HTMLModel",
       "_view_count": null,
       "_view_module": "@jupyter-widgets/controls",
       "_view_module_version": "1.5.0",
       "_view_name": "HTMLView",
       "description": "",
       "description_tooltip": null,
       "layout": "IPY_MODEL_4f54d947a17b46518fba52145f4d3f6e",
       "placeholder": "​",
       "style": "IPY_MODEL_deeda6ccae3247a4989603472f0e7b17",
       "value": " 52.0/52.0 [00:00&lt;00:00, 3.66kB/s]"
      }
     },
     "b55b4194fec742f9b1af4433fdb15693": {
      "model_module": "@jupyter-widgets/controls",
      "model_module_version": "1.5.0",
      "model_name": "HBoxModel",
      "state": {
       "_dom_classes": [],
       "_model_module": "@jupyter-widgets/controls",
       "_model_module_version": "1.5.0",
       "_model_name": "HBoxModel",
       "_view_count": null,
       "_view_module": "@jupyter-widgets/controls",
       "_view_module_version": "1.5.0",
       "_view_name": "HBoxView",
       "box_style": "",
       "children": [
        "IPY_MODEL_3e63ef44218c4d51a484731b56fb8f0d",
        "IPY_MODEL_43091326672848878694d6e6073e82e4",
        "IPY_MODEL_7eb240c3ebc5458aa49a1f7c467c5902"
       ],
       "layout": "IPY_MODEL_934f366c2ef445ddb4ed0e9d5f36c379"
      }
     },
     "b906ee11470b440198a912d01188d984": {
      "model_module": "@jupyter-widgets/base",
      "model_module_version": "1.2.0",
      "model_name": "LayoutModel",
      "state": {
       "_model_module": "@jupyter-widgets/base",
       "_model_module_version": "1.2.0",
       "_model_name": "LayoutModel",
       "_view_count": null,
       "_view_module": "@jupyter-widgets/base",
       "_view_module_version": "1.2.0",
       "_view_name": "LayoutView",
       "align_content": null,
       "align_items": null,
       "align_self": null,
       "border": null,
       "bottom": null,
       "display": null,
       "flex": null,
       "flex_flow": null,
       "grid_area": null,
       "grid_auto_columns": null,
       "grid_auto_flow": null,
       "grid_auto_rows": null,
       "grid_column": null,
       "grid_gap": null,
       "grid_row": null,
       "grid_template_areas": null,
       "grid_template_columns": null,
       "grid_template_rows": null,
       "height": null,
       "justify_content": null,
       "justify_items": null,
       "left": null,
       "margin": null,
       "max_height": null,
       "max_width": null,
       "min_height": null,
       "min_width": null,
       "object_fit": null,
       "object_position": null,
       "order": null,
       "overflow": null,
       "overflow_x": null,
       "overflow_y": null,
       "padding": null,
       "right": null,
       "top": null,
       "visibility": null,
       "width": null
      }
     },
     "bc0ae2f70bf64023835f582ea8a9f55d": {
      "model_module": "@jupyter-widgets/controls",
      "model_module_version": "1.5.0",
      "model_name": "ProgressStyleModel",
      "state": {
       "_model_module": "@jupyter-widgets/controls",
       "_model_module_version": "1.5.0",
       "_model_name": "ProgressStyleModel",
       "_view_count": null,
       "_view_module": "@jupyter-widgets/base",
       "_view_module_version": "1.2.0",
       "_view_name": "StyleView",
       "bar_color": null,
       "description_width": ""
      }
     },
     "c1f9ff09b39c483d82eebfa26b198f57": {
      "model_module": "@jupyter-widgets/controls",
      "model_module_version": "1.5.0",
      "model_name": "HTMLModel",
      "state": {
       "_dom_classes": [],
       "_model_module": "@jupyter-widgets/controls",
       "_model_module_version": "1.5.0",
       "_model_name": "HTMLModel",
       "_view_count": null,
       "_view_module": "@jupyter-widgets/controls",
       "_view_module_version": "1.5.0",
       "_view_name": "HTMLView",
       "description": "",
       "description_tooltip": null,
       "layout": "IPY_MODEL_f8338fe92a5749f8b7da6a0bf93a10e4",
       "placeholder": "​",
       "style": "IPY_MODEL_6cf04e286bc145c983b445a013f3d887",
       "value": "tokenizer_config.json: 100%"
      }
     },
     "c20e232952264cdc8be85af372e30a56": {
      "model_module": "@jupyter-widgets/controls",
      "model_module_version": "1.5.0",
      "model_name": "DescriptionStyleModel",
      "state": {
       "_model_module": "@jupyter-widgets/controls",
       "_model_module_version": "1.5.0",
       "_model_name": "DescriptionStyleModel",
       "_view_count": null,
       "_view_module": "@jupyter-widgets/base",
       "_view_module_version": "1.2.0",
       "_view_name": "StyleView",
       "description_width": ""
      }
     },
     "c3554d3043634aba91e11406c4579352": {
      "model_module": "@jupyter-widgets/controls",
      "model_module_version": "1.5.0",
      "model_name": "ProgressStyleModel",
      "state": {
       "_model_module": "@jupyter-widgets/controls",
       "_model_module_version": "1.5.0",
       "_model_name": "ProgressStyleModel",
       "_view_count": null,
       "_view_module": "@jupyter-widgets/base",
       "_view_module_version": "1.2.0",
       "_view_name": "StyleView",
       "bar_color": null,
       "description_width": ""
      }
     },
     "c44d1fc79e80495ea6c1aa4a490b7ef5": {
      "model_module": "@jupyter-widgets/controls",
      "model_module_version": "1.5.0",
      "model_name": "FloatProgressModel",
      "state": {
       "_dom_classes": [],
       "_model_module": "@jupyter-widgets/controls",
       "_model_module_version": "1.5.0",
       "_model_name": "FloatProgressModel",
       "_view_count": null,
       "_view_module": "@jupyter-widgets/controls",
       "_view_module_version": "1.5.0",
       "_view_name": "ProgressView",
       "bar_style": "success",
       "description": "",
       "description_tooltip": null,
       "layout": "IPY_MODEL_4682fc6cf4ff455fba64848787c9ece0",
       "max": 578,
       "min": 0,
       "orientation": "horizontal",
       "style": "IPY_MODEL_c3554d3043634aba91e11406c4579352",
       "value": 578
      }
     },
     "c4aeee31b8e243c68c515d110a5858d7": {
      "model_module": "@jupyter-widgets/controls",
      "model_module_version": "1.5.0",
      "model_name": "FloatProgressModel",
      "state": {
       "_dom_classes": [],
       "_model_module": "@jupyter-widgets/controls",
       "_model_module_version": "1.5.0",
       "_model_name": "FloatProgressModel",
       "_view_count": null,
       "_view_module": "@jupyter-widgets/controls",
       "_view_module_version": "1.5.0",
       "_view_name": "ProgressView",
       "bar_style": "success",
       "description": "",
       "description_tooltip": null,
       "layout": "IPY_MODEL_4967e07f6fd84462b7e8969f0f780a90",
       "max": 241453931,
       "min": 0,
       "orientation": "horizontal",
       "style": "IPY_MODEL_bc0ae2f70bf64023835f582ea8a9f55d",
       "value": 241453931
      }
     },
     "c8593c664df941bbb45fea7469881402": {
      "model_module": "@jupyter-widgets/controls",
      "model_module_version": "1.5.0",
      "model_name": "HTMLModel",
      "state": {
       "_dom_classes": [],
       "_model_module": "@jupyter-widgets/controls",
       "_model_module_version": "1.5.0",
       "_model_name": "HTMLModel",
       "_view_count": null,
       "_view_module": "@jupyter-widgets/controls",
       "_view_module_version": "1.5.0",
       "_view_name": "HTMLView",
       "description": "",
       "description_tooltip": null,
       "layout": "IPY_MODEL_f9cb3b6b620e44f1abf6716b34a09a89",
       "placeholder": "​",
       "style": "IPY_MODEL_04e08069de7442f48495ad66d6a39503",
       "value": " 241M/241M [00:01&lt;00:00, 154MB/s]"
      }
     },
     "cb31f03dbd3f43fca2a039977d13dca9": {
      "model_module": "@jupyter-widgets/controls",
      "model_module_version": "1.5.0",
      "model_name": "HBoxModel",
      "state": {
       "_dom_classes": [],
       "_model_module": "@jupyter-widgets/controls",
       "_model_module_version": "1.5.0",
       "_model_name": "HBoxModel",
       "_view_count": null,
       "_view_module": "@jupyter-widgets/controls",
       "_view_module_version": "1.5.0",
       "_view_name": "HBoxView",
       "box_style": "",
       "children": [
        "IPY_MODEL_cde7f4bbd18b4c13a3f0721c04b49e87",
        "IPY_MODEL_c44d1fc79e80495ea6c1aa4a490b7ef5",
        "IPY_MODEL_659eddf81acc4baa82a74cf8814822c4"
       ],
       "layout": "IPY_MODEL_1c0df20d26d54ce9b6ed38dd97ce89e9"
      }
     },
     "cbdabc2bacad43708509f8738657ab47": {
      "model_module": "@jupyter-widgets/controls",
      "model_module_version": "1.5.0",
      "model_name": "HBoxModel",
      "state": {
       "_dom_classes": [],
       "_model_module": "@jupyter-widgets/controls",
       "_model_module_version": "1.5.0",
       "_model_name": "HBoxModel",
       "_view_count": null,
       "_view_module": "@jupyter-widgets/controls",
       "_view_module_version": "1.5.0",
       "_view_name": "HBoxView",
       "box_style": "",
       "children": [
        "IPY_MODEL_1c0d0fdc69a14510838cd2e75d8be225",
        "IPY_MODEL_e90dda2f4ece491885a3eb596063d4ba",
        "IPY_MODEL_3d468f1c3d81410cb5d8c0c9ab599600"
       ],
       "layout": "IPY_MODEL_8309669f146742baa8568774d80cce3e"
      }
     },
     "cde7f4bbd18b4c13a3f0721c04b49e87": {
      "model_module": "@jupyter-widgets/controls",
      "model_module_version": "1.5.0",
      "model_name": "HTMLModel",
      "state": {
       "_dom_classes": [],
       "_model_module": "@jupyter-widgets/controls",
       "_model_module_version": "1.5.0",
       "_model_name": "HTMLModel",
       "_view_count": null,
       "_view_module": "@jupyter-widgets/controls",
       "_view_module_version": "1.5.0",
       "_view_name": "HTMLView",
       "description": "",
       "description_tooltip": null,
       "layout": "IPY_MODEL_8332023487a642168ecb2f17788d90a5",
       "placeholder": "​",
       "style": "IPY_MODEL_13f01864fd804d04b11b40b12665e596",
       "value": "config.json: 100%"
      }
     },
     "cee08afa9ad7495d89b129035ad0d22e": {
      "model_module": "@jupyter-widgets/controls",
      "model_module_version": "1.5.0",
      "model_name": "DescriptionStyleModel",
      "state": {
       "_model_module": "@jupyter-widgets/controls",
       "_model_module_version": "1.5.0",
       "_model_name": "DescriptionStyleModel",
       "_view_count": null,
       "_view_module": "@jupyter-widgets/base",
       "_view_module_version": "1.2.0",
       "_view_name": "StyleView",
       "description_width": ""
      }
     },
     "deeda6ccae3247a4989603472f0e7b17": {
      "model_module": "@jupyter-widgets/controls",
      "model_module_version": "1.5.0",
      "model_name": "DescriptionStyleModel",
      "state": {
       "_model_module": "@jupyter-widgets/controls",
       "_model_module_version": "1.5.0",
       "_model_name": "DescriptionStyleModel",
       "_view_count": null,
       "_view_module": "@jupyter-widgets/base",
       "_view_module_version": "1.2.0",
       "_view_name": "StyleView",
       "description_width": ""
      }
     },
     "df0ce59c532442ee9e4a79075ec3c7fb": {
      "model_module": "@jupyter-widgets/controls",
      "model_module_version": "1.5.0",
      "model_name": "ProgressStyleModel",
      "state": {
       "_model_module": "@jupyter-widgets/controls",
       "_model_module_version": "1.5.0",
       "_model_name": "ProgressStyleModel",
       "_view_count": null,
       "_view_module": "@jupyter-widgets/base",
       "_view_module_version": "1.2.0",
       "_view_name": "StyleView",
       "bar_color": null,
       "description_width": ""
      }
     },
     "e29b3ca12d1a4da99ac9c2eaef790c2b": {
      "model_module": "@jupyter-widgets/controls",
      "model_module_version": "1.5.0",
      "model_name": "DescriptionStyleModel",
      "state": {
       "_model_module": "@jupyter-widgets/controls",
       "_model_module_version": "1.5.0",
       "_model_name": "DescriptionStyleModel",
       "_view_count": null,
       "_view_module": "@jupyter-widgets/base",
       "_view_module_version": "1.2.0",
       "_view_name": "StyleView",
       "description_width": ""
      }
     },
     "e90dda2f4ece491885a3eb596063d4ba": {
      "model_module": "@jupyter-widgets/controls",
      "model_module_version": "1.5.0",
      "model_name": "FloatProgressModel",
      "state": {
       "_dom_classes": [],
       "_model_module": "@jupyter-widgets/controls",
       "_model_module_version": "1.5.0",
       "_model_name": "FloatProgressModel",
       "_view_count": null,
       "_view_module": "@jupyter-widgets/controls",
       "_view_module_version": "1.5.0",
       "_view_name": "ProgressView",
       "bar_style": "success",
       "description": "",
       "description_tooltip": null,
       "layout": "IPY_MODEL_94afcc75a89142ea9bd2aa04e3aed272",
       "max": 574,
       "min": 0,
       "orientation": "horizontal",
       "style": "IPY_MODEL_df0ce59c532442ee9e4a79075ec3c7fb",
       "value": 574
      }
     },
     "eb26df6ccf214a05b234f7833d37df99": {
      "model_module": "@jupyter-widgets/controls",
      "model_module_version": "1.5.0",
      "model_name": "ProgressStyleModel",
      "state": {
       "_model_module": "@jupyter-widgets/controls",
       "_model_module_version": "1.5.0",
       "_model_name": "ProgressStyleModel",
       "_view_count": null,
       "_view_module": "@jupyter-widgets/base",
       "_view_module_version": "1.2.0",
       "_view_name": "StyleView",
       "bar_color": null,
       "description_width": ""
      }
     },
     "f059f80605c649d2b9627399735e1e96": {
      "model_module": "@jupyter-widgets/base",
      "model_module_version": "1.2.0",
      "model_name": "LayoutModel",
      "state": {
       "_model_module": "@jupyter-widgets/base",
       "_model_module_version": "1.2.0",
       "_model_name": "LayoutModel",
       "_view_count": null,
       "_view_module": "@jupyter-widgets/base",
       "_view_module_version": "1.2.0",
       "_view_name": "LayoutView",
       "align_content": null,
       "align_items": null,
       "align_self": null,
       "border": null,
       "bottom": null,
       "display": null,
       "flex": null,
       "flex_flow": null,
       "grid_area": null,
       "grid_auto_columns": null,
       "grid_auto_flow": null,
       "grid_auto_rows": null,
       "grid_column": null,
       "grid_gap": null,
       "grid_row": null,
       "grid_template_areas": null,
       "grid_template_columns": null,
       "grid_template_rows": null,
       "height": null,
       "justify_content": null,
       "justify_items": null,
       "left": null,
       "margin": null,
       "max_height": null,
       "max_width": null,
       "min_height": null,
       "min_width": null,
       "object_fit": null,
       "object_position": null,
       "order": null,
       "overflow": null,
       "overflow_x": null,
       "overflow_y": null,
       "padding": null,
       "right": null,
       "top": null,
       "visibility": null,
       "width": null
      }
     },
     "f34479fa030d4cd7b0fac16a3ef0da09": {
      "model_module": "@jupyter-widgets/controls",
      "model_module_version": "1.5.0",
      "model_name": "FloatProgressModel",
      "state": {
       "_dom_classes": [],
       "_model_module": "@jupyter-widgets/controls",
       "_model_module_version": "1.5.0",
       "_model_name": "FloatProgressModel",
       "_view_count": null,
       "_view_module": "@jupyter-widgets/controls",
       "_view_module_version": "1.5.0",
       "_view_name": "ProgressView",
       "bar_style": "success",
       "description": "",
       "description_tooltip": null,
       "layout": "IPY_MODEL_1ea9bb2d800e4617b924d09ec8349489",
       "max": 52,
       "min": 0,
       "orientation": "horizontal",
       "style": "IPY_MODEL_912ab05554ef4e7c87ebc847ad4c447b",
       "value": 52
      }
     },
     "f67db740a8a7478a919864f7f956be4d": {
      "model_module": "@jupyter-widgets/base",
      "model_module_version": "1.2.0",
      "model_name": "LayoutModel",
      "state": {
       "_model_module": "@jupyter-widgets/base",
       "_model_module_version": "1.2.0",
       "_model_name": "LayoutModel",
       "_view_count": null,
       "_view_module": "@jupyter-widgets/base",
       "_view_module_version": "1.2.0",
       "_view_name": "LayoutView",
       "align_content": null,
       "align_items": null,
       "align_self": null,
       "border": null,
       "bottom": null,
       "display": null,
       "flex": null,
       "flex_flow": null,
       "grid_area": null,
       "grid_auto_columns": null,
       "grid_auto_flow": null,
       "grid_auto_rows": null,
       "grid_column": null,
       "grid_gap": null,
       "grid_row": null,
       "grid_template_areas": null,
       "grid_template_columns": null,
       "grid_template_rows": null,
       "height": null,
       "justify_content": null,
       "justify_items": null,
       "left": null,
       "margin": null,
       "max_height": null,
       "max_width": null,
       "min_height": null,
       "min_width": null,
       "object_fit": null,
       "object_position": null,
       "order": null,
       "overflow": null,
       "overflow_x": null,
       "overflow_y": null,
       "padding": null,
       "right": null,
       "top": null,
       "visibility": null,
       "width": null
      }
     },
     "f8338fe92a5749f8b7da6a0bf93a10e4": {
      "model_module": "@jupyter-widgets/base",
      "model_module_version": "1.2.0",
      "model_name": "LayoutModel",
      "state": {
       "_model_module": "@jupyter-widgets/base",
       "_model_module_version": "1.2.0",
       "_model_name": "LayoutModel",
       "_view_count": null,
       "_view_module": "@jupyter-widgets/base",
       "_view_module_version": "1.2.0",
       "_view_name": "LayoutView",
       "align_content": null,
       "align_items": null,
       "align_self": null,
       "border": null,
       "bottom": null,
       "display": null,
       "flex": null,
       "flex_flow": null,
       "grid_area": null,
       "grid_auto_columns": null,
       "grid_auto_flow": null,
       "grid_auto_rows": null,
       "grid_column": null,
       "grid_gap": null,
       "grid_row": null,
       "grid_template_areas": null,
       "grid_template_columns": null,
       "grid_template_rows": null,
       "height": null,
       "justify_content": null,
       "justify_items": null,
       "left": null,
       "margin": null,
       "max_height": null,
       "max_width": null,
       "min_height": null,
       "min_width": null,
       "object_fit": null,
       "object_position": null,
       "order": null,
       "overflow": null,
       "overflow_x": null,
       "overflow_y": null,
       "padding": null,
       "right": null,
       "top": null,
       "visibility": null,
       "width": null
      }
     },
     "f9cb3b6b620e44f1abf6716b34a09a89": {
      "model_module": "@jupyter-widgets/base",
      "model_module_version": "1.2.0",
      "model_name": "LayoutModel",
      "state": {
       "_model_module": "@jupyter-widgets/base",
       "_model_module_version": "1.2.0",
       "_model_name": "LayoutModel",
       "_view_count": null,
       "_view_module": "@jupyter-widgets/base",
       "_view_module_version": "1.2.0",
       "_view_name": "LayoutView",
       "align_content": null,
       "align_items": null,
       "align_self": null,
       "border": null,
       "bottom": null,
       "display": null,
       "flex": null,
       "flex_flow": null,
       "grid_area": null,
       "grid_auto_columns": null,
       "grid_auto_flow": null,
       "grid_auto_rows": null,
       "grid_column": null,
       "grid_gap": null,
       "grid_row": null,
       "grid_template_areas": null,
       "grid_template_columns": null,
       "grid_template_rows": null,
       "height": null,
       "justify_content": null,
       "justify_items": null,
       "left": null,
       "margin": null,
       "max_height": null,
       "max_width": null,
       "min_height": null,
       "min_width": null,
       "object_fit": null,
       "object_position": null,
       "order": null,
       "overflow": null,
       "overflow_x": null,
       "overflow_y": null,
       "padding": null,
       "right": null,
       "top": null,
       "visibility": null,
       "width": null
      }
     },
     "f9dc32ebb8b34b83bc636aacd8d9914a": {
      "model_module": "@jupyter-widgets/controls",
      "model_module_version": "1.5.0",
      "model_name": "DescriptionStyleModel",
      "state": {
       "_model_module": "@jupyter-widgets/controls",
       "_model_module_version": "1.5.0",
       "_model_name": "DescriptionStyleModel",
       "_view_count": null,
       "_view_module": "@jupyter-widgets/base",
       "_view_module_version": "1.2.0",
       "_view_name": "StyleView",
       "description_width": ""
      }
     }
    },
    "version_major": 2,
    "version_minor": 0
   }
  }
 },
 "nbformat": 4,
 "nbformat_minor": 5
}
